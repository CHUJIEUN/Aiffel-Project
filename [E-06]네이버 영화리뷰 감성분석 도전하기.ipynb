{
 "cells": [
  {
   "cell_type": "markdown",
   "id": "5809aef4",
   "metadata": {},
   "source": [
    "### 네이버 영화리뷰 감성분석 도전하기"
   ]
  },
  {
   "cell_type": "markdown",
   "id": "8fc1747d",
   "metadata": {},
   "source": [
    "#### > 데이터 준비 및 확인"
   ]
  },
  {
   "cell_type": "code",
   "execution_count": 1,
   "id": "6735c484",
   "metadata": {},
   "outputs": [
    {
     "data": {
      "text/html": [
       "<div>\n",
       "<style scoped>\n",
       "    .dataframe tbody tr th:only-of-type {\n",
       "        vertical-align: middle;\n",
       "    }\n",
       "\n",
       "    .dataframe tbody tr th {\n",
       "        vertical-align: top;\n",
       "    }\n",
       "\n",
       "    .dataframe thead th {\n",
       "        text-align: right;\n",
       "    }\n",
       "</style>\n",
       "<table border=\"1\" class=\"dataframe\">\n",
       "  <thead>\n",
       "    <tr style=\"text-align: right;\">\n",
       "      <th></th>\n",
       "      <th>id</th>\n",
       "      <th>document</th>\n",
       "      <th>label</th>\n",
       "    </tr>\n",
       "  </thead>\n",
       "  <tbody>\n",
       "    <tr>\n",
       "      <th>0</th>\n",
       "      <td>9976970</td>\n",
       "      <td>아 더빙.. 진짜 짜증나네요 목소리</td>\n",
       "      <td>0</td>\n",
       "    </tr>\n",
       "    <tr>\n",
       "      <th>1</th>\n",
       "      <td>3819312</td>\n",
       "      <td>흠...포스터보고 초딩영화줄....오버연기조차 가볍지 않구나</td>\n",
       "      <td>1</td>\n",
       "    </tr>\n",
       "    <tr>\n",
       "      <th>2</th>\n",
       "      <td>10265843</td>\n",
       "      <td>너무재밓었다그래서보는것을추천한다</td>\n",
       "      <td>0</td>\n",
       "    </tr>\n",
       "    <tr>\n",
       "      <th>3</th>\n",
       "      <td>9045019</td>\n",
       "      <td>교도소 이야기구먼 ..솔직히 재미는 없다..평점 조정</td>\n",
       "      <td>0</td>\n",
       "    </tr>\n",
       "    <tr>\n",
       "      <th>4</th>\n",
       "      <td>6483659</td>\n",
       "      <td>사이몬페그의 익살스런 연기가 돋보였던 영화!스파이더맨에서 늙어보이기만 했던 커스틴 ...</td>\n",
       "      <td>1</td>\n",
       "    </tr>\n",
       "  </tbody>\n",
       "</table>\n",
       "</div>"
      ],
      "text/plain": [
       "         id                                           document  label\n",
       "0   9976970                                아 더빙.. 진짜 짜증나네요 목소리      0\n",
       "1   3819312                  흠...포스터보고 초딩영화줄....오버연기조차 가볍지 않구나      1\n",
       "2  10265843                                  너무재밓었다그래서보는것을추천한다      0\n",
       "3   9045019                      교도소 이야기구먼 ..솔직히 재미는 없다..평점 조정      0\n",
       "4   6483659  사이몬페그의 익살스런 연기가 돋보였던 영화!스파이더맨에서 늙어보이기만 했던 커스틴 ...      1"
      ]
     },
     "execution_count": 1,
     "metadata": {},
     "output_type": "execute_result"
    }
   ],
   "source": [
    "import pandas as pd\n",
    "import re\n",
    "%matplotlib inline\n",
    "import matplotlib.pyplot as plt\n",
    "import re\n",
    "from konlpy.tag import Okt\n",
    "from tensorflow import keras\n",
    "from tensorflow.keras.preprocessing.text import Tokenizer\n",
    "import numpy as np\n",
    "from tensorflow.keras.preprocessing.sequence import pad_sequences\n",
    "from collections import Counter\n",
    "import os\n",
    "from konlpy.tag import Mecab\n",
    "import gensim\n",
    "from gensim.models import KeyedVectors\n",
    "from gensim.models import Word2Vec\n",
    "from gensim.models.keyedvectors import Word2VecKeyedVectors\n",
    "from tensorflow.keras.initializers import Constant\n",
    "\n",
    "# 데이터를 읽어봅시다. \n",
    "train_data = pd.read_table('~/aiffel/sentiment_classification/data/ratings_train.txt')\n",
    "test_data = pd.read_table('~/aiffel/sentiment_classification/data/ratings_test.txt')\n",
    "\n",
    "train_data.head()"
   ]
  },
  {
   "cell_type": "markdown",
   "id": "0ef7e500",
   "metadata": {},
   "source": [
    "#### > 데이터 로더 구성"
   ]
  },
  {
   "cell_type": "markdown",
   "id": "e213074f",
   "metadata": {},
   "source": [
    "nsmc 데이터셋은 전혀 가공되지 않은 텍스트 파일로 이루어져 있으므로,\n",
    "data_loader를 만들어 보는 것으로 시작한다.\n",
    "- 데이터의 중복 제거\n",
    "- NaN 결측치 제거\n",
    "- 한국어 토크나이저로 토큰화\n",
    "- 불용어(Stopwords) 제거\n",
    "- 사전word_to_index 구성\n",
    "- 텍스트 스트링을 사전 인덱스 스트링으로 변환\n",
    "- X_train, y_train, X_test, y_test, word_to_index 리턴"
   ]
  },
  {
   "cell_type": "code",
   "execution_count": 2,
   "id": "61853062",
   "metadata": {},
   "outputs": [],
   "source": [
    "from konlpy.tag import Mecab\n",
    "tokenizer = Mecab()\n",
    "stopwords = ['의','가','이','은','들','는','좀','잘','걍','과','도','를','으로','자','에','와','한','하다']\n",
    "\n",
    "# load_data 함수\n",
    "def load_data(train_data, test_data, num_words=10000):\n",
    "    train_data.drop_duplicates(subset=['document'], inplace=True)\n",
    "    train_data = train_data.dropna(how = 'any') \n",
    "    test_data.drop_duplicates(subset=['document'], inplace=True)\n",
    "    test_data = test_data.dropna(how = 'any') \n",
    "\n",
    "    x_train = []\n",
    "    for sentence in train_data['document']:\n",
    "        temp_x = tokenizer.morphs(sentence) # 토큰화\n",
    "        temp_x = [word for word in temp_x if word not in stopwords] # 불용어 제거\n",
    "        x_train.append(temp_x)\n",
    "\n",
    "    x_test = []\n",
    "    for sentence in test_data['document']:\n",
    "        temp_x = tokenizer.morphs(sentence) # 토큰화\n",
    "        temp_x = [word for word in temp_x if word not in stopwords] # 불용어 제거\n",
    "        x_test.append(temp_x)\n",
    "\n",
    "    words = np.concatenate(x_train).tolist()\n",
    "    counter = Counter(words)\n",
    "    counter = counter.most_common(10000-4)\n",
    "    vocab = ['<PAD>', '<BOS>', '<UNK>', '<UNUSED>'] + [key for key, _ in counter]\n",
    "    word_to_index = {word:index for index, word in enumerate(vocab)}\n",
    "\n",
    "    def wordlist_to_indexlist(wordlist):\n",
    "        return [word_to_index[word] if word in word_to_index else word_to_index['<UNK>'] for word in wordlist]\n",
    "\n",
    "    x_train = list(map(wordlist_to_indexlist, x_train))\n",
    "    x_test = list(map(wordlist_to_indexlist, x_test))\n",
    "\n",
    "    return x_train, np.array(list(train_data['label'])), x_test, np.array(list(test_data['label'])), word_to_index\n",
    "\n",
    "x_train, y_train, x_test, y_test, word_to_index = load_data(train_data, test_data)"
   ]
  },
  {
   "cell_type": "code",
   "execution_count": 3,
   "id": "866cdd68",
   "metadata": {},
   "outputs": [],
   "source": [
    "index_to_word = {index:word for word, index in word_to_index.items()}"
   ]
  },
  {
   "cell_type": "code",
   "execution_count": 4,
   "id": "c4f80e95",
   "metadata": {},
   "outputs": [],
   "source": [
    "# 문장 1개를 활용할 딕셔너리와 함께 주면, 단어 인덱스 리스트 벡터로 변환해 주는 함수\n",
    "# 단, 모든 문장은 <BOS>로 시작\n",
    "def get_encoded_sentence(sentence, word_to_index):\n",
    "    return [word_to_index['<BOS>']]+[word_to_index[word] if word in word_to_index else word_to_index['<UNK>'] for word in sentence.split()]\n",
    "\n",
    "# 여러 개의 문장 리스트를 한꺼번에 단어 인덱스 리스트 벡터로 encode해 주는 함수 \n",
    "def get_encoded_sentences(sentences, word_to_index):\n",
    "    return [get_encoded_sentence(sentence, word_to_index) for sentence in sentences]\n",
    "\n",
    "# 숫자 벡터로 encode된 문장을 원래대로 decode하는 함수\n",
    "def get_decoded_sentence(encoded_sentence, index_to_word):\n",
    "    return ' '.join(index_to_word[index] if index in index_to_word else '<UNK>' for index in encoded_sentence[1:])  #[1:]를 통해 <BOS>를 제외\n",
    "\n",
    "# 여러개의 숫자 벡터로 encode된 문장을 한꺼번에 원래대로 decode하는 함수\n",
    "def get_decoded_sentences(encoded_sentences, index_to_word):\n",
    "    return [get_decoded_sentence(encoded_sentence, index_to_word) for encoded_sentence in encoded_sentences]\n"
   ]
  },
  {
   "cell_type": "code",
   "execution_count": 5,
   "id": "321fa2e5",
   "metadata": {},
   "outputs": [
    {
     "name": "stdout",
     "output_type": "stream",
     "text": [
      "훈련 샘플 개수: 146182, 테스트 개수: 49157\n"
     ]
    }
   ],
   "source": [
    "print(\"훈련 샘플 개수: {}, 테스트 개수: {}\".format(len(x_train), len(x_test)))"
   ]
  },
  {
   "cell_type": "markdown",
   "id": "dca5e0c0",
   "metadata": {},
   "source": [
    "#### > 모델 구성을 위한 데이터 분석 및 가공"
   ]
  },
  {
   "cell_type": "code",
   "execution_count": 6,
   "id": "0ba872a6",
   "metadata": {},
   "outputs": [
    {
     "name": "stdout",
     "output_type": "stream",
     "text": [
      "문장길이 평균 :  15.96940191154864\n",
      "문장길이 최대 :  116\n",
      "문장길이 표준편차 :  12.843571191092\n",
      "pad_sequences maxlen :  41\n",
      "전체 문장의 0.9342988343341575%가 maxlen 설정값 이내에 포함됩니다. \n"
     ]
    }
   ],
   "source": [
    "# 전체문장 길이를 알아낸 후 적절한 값을 넣는 것이 성능에 도움이 됨\n",
    "\n",
    "total_data_text = list(x_train) + list(x_test)\n",
    "# 텍스트데이터 문장길이의 리스트를 생성한 후\n",
    "num_tokens = [len(tokens) for tokens in total_data_text]\n",
    "num_tokens = np.array(num_tokens)\n",
    "# 문장길이의 평균값, 최대값, 표준편차를 계산해 본다. \n",
    "print('문장길이 평균 : ', np.mean(num_tokens))\n",
    "print('문장길이 최대 : ', np.max(num_tokens))\n",
    "print('문장길이 표준편차 : ', np.std(num_tokens))\n",
    "\n",
    "# 예를들어, 최대 길이를 (평균 + 2*표준편차)로 한다면,  \n",
    "max_tokens = np.mean(num_tokens) + 2 * np.std(num_tokens)\n",
    "maxlen = int(max_tokens)\n",
    "print('pad_sequences maxlen : ', maxlen)\n",
    "print('전체 문장의 {}%가 maxlen 설정값 이내에 포함됩니다. '.format(np.sum(num_tokens < max_tokens) / len(num_tokens)))"
   ]
  },
  {
   "cell_type": "code",
   "execution_count": 7,
   "id": "e312ce55",
   "metadata": {},
   "outputs": [
    {
     "name": "stdout",
     "output_type": "stream",
     "text": [
      "(146182, 41)\n"
     ]
    }
   ],
   "source": [
    "# padding의 위치에 따라 달라질 수 있다.\n",
    "# pre\n",
    "x_train = keras.preprocessing.sequence.pad_sequences(x_train,\n",
    "                                                        value=word_to_index[\"<PAD>\"],\n",
    "                                                        padding='post', # 혹은 'pre'\n",
    "                                                        maxlen=maxlen)\n",
    "\n",
    "x_test = keras.preprocessing.sequence.pad_sequences(x_test,\n",
    "                                                       value=word_to_index[\"<PAD>\"],\n",
    "                                                       padding='post', # 혹은 'pre'\n",
    "                                                       maxlen=maxlen)\n",
    "\n",
    "print(x_train.shape)"
   ]
  },
  {
   "cell_type": "markdown",
   "id": "4d728969",
   "metadata": {},
   "source": [
    "#### > 모델 구성 및 validation set 구성"
   ]
  },
  {
   "cell_type": "code",
   "execution_count": 8,
   "id": "9850839b",
   "metadata": {},
   "outputs": [
    {
     "name": "stdout",
     "output_type": "stream",
     "text": [
      "Model: \"sequential\"\n",
      "_________________________________________________________________\n",
      "Layer (type)                 Output Shape              Param #   \n",
      "=================================================================\n",
      "embedding (Embedding)        (None, None, 16)          160000    \n",
      "_________________________________________________________________\n",
      "lstm (LSTM)                  (None, 8)                 800       \n",
      "_________________________________________________________________\n",
      "dense (Dense)                (None, 8)                 72        \n",
      "_________________________________________________________________\n",
      "dense_1 (Dense)              (None, 1)                 9         \n",
      "=================================================================\n",
      "Total params: 160,881\n",
      "Trainable params: 160,881\n",
      "Non-trainable params: 0\n",
      "_________________________________________________________________\n"
     ]
    }
   ],
   "source": [
    "# LSTM\n",
    "vocab_size = 10000  # 어휘 사전의 크기입니다(10,000개의 단어)\n",
    "word_vector_dim = 16  # 워드 벡터의 차원수 (변경가능한 하이퍼파라미터)\n",
    "\n",
    "model = keras.Sequential()\n",
    "model.add(keras.layers.Embedding(vocab_size, word_vector_dim, input_shape=(None,)))\n",
    "model.add(keras.layers.LSTM(8))\n",
    "model.add(keras.layers.Dense(8, activation='relu'))\n",
    "model.add(keras.layers.Dense(1, activation='sigmoid'))  # 최종 출력은 긍정/부정을 나타내는 1dim 입니다.\n",
    "\n",
    "model.summary()"
   ]
  },
  {
   "cell_type": "code",
   "execution_count": 9,
   "id": "1703a893",
   "metadata": {
    "scrolled": true
   },
   "outputs": [
    {
     "name": "stdout",
     "output_type": "stream",
     "text": [
      "Model: \"sequential_1\"\n",
      "_________________________________________________________________\n",
      "Layer (type)                 Output Shape              Param #   \n",
      "=================================================================\n",
      "embedding_1 (Embedding)      (None, None, 16)          160000    \n",
      "_________________________________________________________________\n",
      "conv1d (Conv1D)              (None, None, 16)          1808      \n",
      "_________________________________________________________________\n",
      "max_pooling1d (MaxPooling1D) (None, None, 16)          0         \n",
      "_________________________________________________________________\n",
      "conv1d_1 (Conv1D)            (None, None, 16)          1808      \n",
      "_________________________________________________________________\n",
      "global_max_pooling1d (Global (None, 16)                0         \n",
      "_________________________________________________________________\n",
      "dense_2 (Dense)              (None, 16)                272       \n",
      "_________________________________________________________________\n",
      "dense_3 (Dense)              (None, 1)                 17        \n",
      "=================================================================\n",
      "Total params: 163,905\n",
      "Trainable params: 163,905\n",
      "Non-trainable params: 0\n",
      "_________________________________________________________________\n"
     ]
    }
   ],
   "source": [
    "# 1-D CNN\n",
    "cnn = keras.Sequential()\n",
    "cnn.add(keras.layers.Embedding(vocab_size, word_vector_dim, input_shape=(None,))) \n",
    "cnn.add(keras.layers.Conv1D(16, 7, activation='relu'))\n",
    "cnn.add(keras.layers.MaxPooling1D(5))\n",
    "cnn.add(keras.layers.Conv1D(16, 7, activation='relu'))\n",
    "cnn.add(keras.layers.GlobalMaxPooling1D())\n",
    "cnn.add(keras.layers.Dense(16, activation='relu'))\n",
    "cnn.add(keras.layers.Dense(1, activation='sigmoid'))\n",
    "\n",
    "cnn.summary()"
   ]
  },
  {
   "cell_type": "code",
   "execution_count": 10,
   "id": "580596b8",
   "metadata": {},
   "outputs": [
    {
     "name": "stdout",
     "output_type": "stream",
     "text": [
      "Model: \"sequential_2\"\n",
      "_________________________________________________________________\n",
      "Layer (type)                 Output Shape              Param #   \n",
      "=================================================================\n",
      "embedding_2 (Embedding)      (None, None, 16)          160000    \n",
      "_________________________________________________________________\n",
      "global_average_pooling1d (Gl (None, 16)                0         \n",
      "_________________________________________________________________\n",
      "dense_4 (Dense)              (None, 8)                 136       \n",
      "_________________________________________________________________\n",
      "dense_5 (Dense)              (None, 1)                 9         \n",
      "=================================================================\n",
      "Total params: 160,145\n",
      "Trainable params: 160,145\n",
      "Non-trainable params: 0\n",
      "_________________________________________________________________\n"
     ]
    }
   ],
   "source": [
    "# one GlobalAveragePooling layer\n",
    "simple = keras.Sequential()\n",
    "simple.add(keras.layers.Embedding(vocab_size, word_vector_dim, input_shape=(None,)))\n",
    "simple.add(keras.layers.GlobalAveragePooling1D())\n",
    "simple.add(keras.layers.Dense(8, activation='relu'))\n",
    "simple.add(keras.layers.Dense(1, activation='sigmoid'))\n",
    "\n",
    "simple.summary()"
   ]
  },
  {
   "cell_type": "code",
   "execution_count": 11,
   "id": "b07072bf",
   "metadata": {},
   "outputs": [
    {
     "name": "stdout",
     "output_type": "stream",
     "text": [
      "(46182, 41)\n",
      "(46182,)\n"
     ]
    }
   ],
   "source": [
    "# validation set 10000건 분리\n",
    "x_val = x_train[:100000]   \n",
    "y_val = y_train[:100000]\n",
    "\n",
    "# validation set을 제외한 나머지 15000건\n",
    "partial_x_train = x_train[100000:]  \n",
    "partial_y_train = y_train[100000:]\n",
    "\n",
    "print(partial_x_train.shape)\n",
    "print(partial_y_train.shape)"
   ]
  },
  {
   "cell_type": "markdown",
   "id": "b1e38811",
   "metadata": {},
   "source": [
    " #### > 모델 훈련 개시"
   ]
  },
  {
   "cell_type": "code",
   "execution_count": 12,
   "id": "7ba65511",
   "metadata": {},
   "outputs": [
    {
     "name": "stdout",
     "output_type": "stream",
     "text": [
      "Epoch 1/10\n",
      "91/91 [==============================] - 4s 14ms/step - loss: 0.6926 - accuracy: 0.5049 - val_loss: 0.6894 - val_accuracy: 0.5759\n",
      "Epoch 2/10\n",
      "91/91 [==============================] - 1s 10ms/step - loss: 0.5270 - accuracy: 0.7569 - val_loss: 0.4274 - val_accuracy: 0.8195\n",
      "Epoch 3/10\n",
      "91/91 [==============================] - 1s 9ms/step - loss: 0.3625 - accuracy: 0.8549 - val_loss: 0.3784 - val_accuracy: 0.8371\n",
      "Epoch 4/10\n",
      "91/91 [==============================] - 1s 9ms/step - loss: 0.3141 - accuracy: 0.8768 - val_loss: 0.3805 - val_accuracy: 0.8369\n",
      "Epoch 5/10\n",
      "91/91 [==============================] - 1s 9ms/step - loss: 0.2915 - accuracy: 0.8889 - val_loss: 0.3868 - val_accuracy: 0.8358\n",
      "Epoch 6/10\n",
      "91/91 [==============================] - 1s 9ms/step - loss: 0.2756 - accuracy: 0.8961 - val_loss: 0.3985 - val_accuracy: 0.8279\n",
      "Epoch 7/10\n",
      "91/91 [==============================] - 1s 9ms/step - loss: 0.2651 - accuracy: 0.9017 - val_loss: 0.4109 - val_accuracy: 0.8283\n",
      "Epoch 8/10\n",
      "91/91 [==============================] - 1s 9ms/step - loss: 0.2604 - accuracy: 0.9031 - val_loss: 0.4156 - val_accuracy: 0.8295\n",
      "Epoch 9/10\n",
      "91/91 [==============================] - 1s 10ms/step - loss: 0.2525 - accuracy: 0.9066 - val_loss: 0.4085 - val_accuracy: 0.8279\n",
      "Epoch 10/10\n",
      "91/91 [==============================] - 1s 9ms/step - loss: 0.2446 - accuracy: 0.9126 - val_loss: 0.4335 - val_accuracy: 0.8234\n"
     ]
    }
   ],
   "source": [
    "# LSTM\n",
    "model.compile(optimizer='adam',\n",
    "              loss='binary_crossentropy',\n",
    "              metrics=['accuracy'])\n",
    "\n",
    "epochs=10\n",
    "\n",
    "history = model.fit(partial_x_train,\n",
    "                    partial_y_train,\n",
    "                    epochs=epochs,\n",
    "                    batch_size=512,\n",
    "                    validation_data=(x_val, y_val),\n",
    "                    verbose=1)\n"
   ]
  },
  {
   "cell_type": "code",
   "execution_count": 13,
   "id": "cd848c14",
   "metadata": {},
   "outputs": [
    {
     "name": "stdout",
     "output_type": "stream",
     "text": [
      "Epoch 1/5\n",
      "91/91 [==============================] - 2s 10ms/step - loss: 0.6442 - accuracy: 0.6412 - val_loss: 0.4673 - val_accuracy: 0.7874\n",
      "Epoch 2/5\n",
      "91/91 [==============================] - 1s 8ms/step - loss: 0.3870 - accuracy: 0.8336 - val_loss: 0.3771 - val_accuracy: 0.8349\n",
      "Epoch 3/5\n",
      "91/91 [==============================] - 1s 8ms/step - loss: 0.3110 - accuracy: 0.8711 - val_loss: 0.3751 - val_accuracy: 0.8377\n",
      "Epoch 4/5\n",
      "91/91 [==============================] - 1s 8ms/step - loss: 0.2685 - accuracy: 0.8930 - val_loss: 0.3924 - val_accuracy: 0.8329\n",
      "Epoch 5/5\n",
      "91/91 [==============================] - 1s 8ms/step - loss: 0.2346 - accuracy: 0.9097 - val_loss: 0.4051 - val_accuracy: 0.8324\n"
     ]
    }
   ],
   "source": [
    "# CNN\n",
    "cnn.compile(optimizer='adam',\n",
    "              loss='binary_crossentropy',\n",
    "              metrics=['accuracy'])\n",
    "\n",
    "epochs=5\n",
    "\n",
    "history_cnn = cnn.fit(partial_x_train,\n",
    "                    partial_y_train,\n",
    "                    epochs=epochs,\n",
    "                    batch_size=512,\n",
    "                    validation_data=(x_val, y_val),\n",
    "                    verbose=1)"
   ]
  },
  {
   "cell_type": "code",
   "execution_count": 14,
   "id": "82e032ae",
   "metadata": {},
   "outputs": [
    {
     "name": "stdout",
     "output_type": "stream",
     "text": [
      "Epoch 1/5\n",
      "91/91 [==============================] - 1s 7ms/step - loss: 0.6882 - accuracy: 0.6258 - val_loss: 0.6792 - val_accuracy: 0.7394\n",
      "Epoch 2/5\n",
      "91/91 [==============================] - 1s 6ms/step - loss: 0.6569 - accuracy: 0.7585 - val_loss: 0.6269 - val_accuracy: 0.7862\n",
      "Epoch 3/5\n",
      "91/91 [==============================] - 1s 6ms/step - loss: 0.5821 - accuracy: 0.7934 - val_loss: 0.5413 - val_accuracy: 0.7970\n",
      "Epoch 4/5\n",
      "91/91 [==============================] - 1s 6ms/step - loss: 0.4983 - accuracy: 0.8104 - val_loss: 0.4744 - val_accuracy: 0.8099\n",
      "Epoch 5/5\n",
      "91/91 [==============================] - 1s 6ms/step - loss: 0.4396 - accuracy: 0.8270 - val_loss: 0.4347 - val_accuracy: 0.8199\n"
     ]
    }
   ],
   "source": [
    "# 1-D CNN\n",
    "simple.compile(optimizer='adam',\n",
    "              loss='binary_crossentropy',\n",
    "              metrics=['accuracy'])\n",
    "\n",
    "epochs=5\n",
    "\n",
    "history_simple = simple.fit(partial_x_train,\n",
    "                    partial_y_train,\n",
    "                    epochs=epochs,\n",
    "                    batch_size=512,\n",
    "                    validation_data=(x_val, y_val),\n",
    "                    verbose=1)"
   ]
  },
  {
   "cell_type": "code",
   "execution_count": 15,
   "id": "71c400c2",
   "metadata": {},
   "outputs": [
    {
     "name": "stdout",
     "output_type": "stream",
     "text": [
      "1537/1537 - 3s - loss: 0.4384 - accuracy: 0.8199\n",
      "[0.43836575746536255, 0.8199442625045776]\n"
     ]
    }
   ],
   "source": [
    "# 모델평가\n",
    "\n",
    "#LSTM\n",
    "results = model.evaluate(x_test,  y_test, verbose=2)\n",
    "print(results)"
   ]
  },
  {
   "cell_type": "code",
   "execution_count": 16,
   "id": "0895f159",
   "metadata": {
    "scrolled": true
   },
   "outputs": [
    {
     "name": "stdout",
     "output_type": "stream",
     "text": [
      "1537/1537 - 2s - loss: 0.4130 - accuracy: 0.8286\n",
      "[0.4129939079284668, 0.8286306858062744]\n"
     ]
    }
   ],
   "source": [
    "# 1-D CNN\n",
    "results_cnn = cnn.evaluate(x_test, y_test, verbose=2)\n",
    "print(results_cnn)"
   ]
  },
  {
   "cell_type": "code",
   "execution_count": 17,
   "id": "37330122",
   "metadata": {},
   "outputs": [
    {
     "name": "stdout",
     "output_type": "stream",
     "text": [
      "1537/1537 - 2s - loss: 0.4403 - accuracy: 0.8154\n",
      "[0.44032198190689087, 0.8154077529907227]\n"
     ]
    }
   ],
   "source": [
    "# GlobalAveragePooling1D\n",
    "results_simple = simple.evaluate(x_test, y_test, verbose=2)\n",
    "print(results_simple)"
   ]
  },
  {
   "cell_type": "markdown",
   "id": "12a593d6",
   "metadata": {},
   "source": [
    "#### > 그래프 시각화"
   ]
  },
  {
   "cell_type": "code",
   "execution_count": 18,
   "id": "7f1201c2",
   "metadata": {},
   "outputs": [
    {
     "data": {
      "image/png": "[encoded data removed]",
      "text/plain": [
       "<Figure size 432x288 with 1 Axes>"
      ]
     },
     "metadata": {
      "needs_background": "light"
     },
     "output_type": "display_data"
    }
   ],
   "source": [
    "# LSTM\n",
    "history_dict = history.history\n",
    "\n",
    "acc = history_dict['accuracy']\n",
    "val_acc = history_dict['val_accuracy']\n",
    "loss = history_dict['loss']\n",
    "val_loss = history_dict['val_loss']\n",
    "\n",
    "epochs = range(1, len(acc) + 1)\n",
    "\n",
    "# \"bo\"는 \"파란색 점\"\n",
    "plt.plot(epochs, loss, 'bo', label='Training loss')\n",
    "# b는 \"파란 실선\"\n",
    "plt.plot(epochs, val_loss, 'b', label='Validation loss')\n",
    "plt.title('Training and validation loss')\n",
    "plt.xlabel('Epochs')\n",
    "plt.ylabel('Loss')\n",
    "plt.legend()\n",
    "\n",
    "plt.show()"
   ]
  },
  {
   "cell_type": "code",
   "execution_count": 19,
   "id": "e30d62ae",
   "metadata": {
    "scrolled": false
   },
   "outputs": [
    {
     "data": {
      "image/png": "[encoded data removed]",
      "text/plain": [
       "<Figure size 432x288 with 1 Axes>"
      ]
     },
     "metadata": {
      "needs_background": "light"
     },
     "output_type": "display_data"
    }
   ],
   "source": [
    "plt.clf()   # 그림을 초기화\n",
    "\n",
    "plt.plot(epochs, acc, 'bo', label='Training acc')\n",
    "plt.plot(epochs, val_acc, 'b', label='Validation acc')\n",
    "plt.title('Training and validation accuracy')\n",
    "plt.xlabel('Epochs')\n",
    "plt.ylabel('Accuracy')\n",
    "plt.legend()\n",
    "\n",
    "plt.show()"
   ]
  },
  {
   "cell_type": "code",
   "execution_count": 20,
   "id": "f6576ff9",
   "metadata": {},
   "outputs": [
    {
     "data": {
      "image/png": "[encoded data removed]",
      "text/plain": [
       "<Figure size 432x288 with 1 Axes>"
      ]
     },
     "metadata": {
      "needs_background": "light"
     },
     "output_type": "display_data"
    },
    {
     "data": {
      "image/png": "[encoded data removed]",
      "text/plain": [
       "<Figure size 432x288 with 1 Axes>"
      ]
     },
     "metadata": {
      "needs_background": "light"
     },
     "output_type": "display_data"
    }
   ],
   "source": [
    "# 1-D CNN\n",
    "history_dict = history_cnn.history\n",
    "\n",
    "acc = history_dict['accuracy']\n",
    "val_acc = history_dict['val_accuracy']\n",
    "loss = history_dict['loss']\n",
    "val_loss = history_dict['val_loss']\n",
    "\n",
    "epochs = range(1, len(acc) + 1)\n",
    "\n",
    "plt.plot(epochs, loss, 'bo', label='Training loss')\n",
    "plt.plot(epochs, val_loss, 'b', label='Validation loss')\n",
    "\n",
    "plt.title('Training and validation loss')\n",
    "plt.xlabel('Epochs')\n",
    "plt.ylabel('Loss')\n",
    "plt.legend()\n",
    "\n",
    "plt.show()\n",
    "\n",
    "plt.clf()\n",
    "\n",
    "plt.plot(epochs, acc, 'bo', label='Training acc')\n",
    "plt.plot(epochs, val_acc, 'b', label='Validation acc')\n",
    "plt.title('Training and validation accuracy')\n",
    "plt.xlabel('Epochs')\n",
    "plt.ylabel('Accuracy')\n",
    "plt.legend()\n",
    "\n",
    "plt.show()"
   ]
  },
  {
   "cell_type": "code",
   "execution_count": 21,
   "id": "25de919a",
   "metadata": {},
   "outputs": [
    {
     "data": {
      "image/png": "[encoded data removed]",
      "text/plain": [
       "<Figure size 432x288 with 1 Axes>"
      ]
     },
     "metadata": {
      "needs_background": "light"
     },
     "output_type": "display_data"
    },
    {
     "data": {
      "image/png": "[encoded data removed]",
      "text/plain": [
       "<Figure size 432x288 with 1 Axes>"
      ]
     },
     "metadata": {
      "needs_background": "light"
     },
     "output_type": "display_data"
    }
   ],
   "source": [
    "# GlobalAveragePooling1D\n",
    "history_dict = history_simple.history\n",
    "\n",
    "acc = history_dict['accuracy']\n",
    "val_acc = history_dict['val_accuracy']\n",
    "loss = history_dict['loss']\n",
    "val_loss = history_dict['val_loss']\n",
    "\n",
    "epochs = range(1, len(acc) + 1)\n",
    "\n",
    "plt.plot(epochs, loss, 'bo', label='Training loss')\n",
    "plt.plot(epochs, val_loss, 'b', label='Validation loss')\n",
    "\n",
    "plt.title('Training and validation loss')\n",
    "plt.xlabel('Epochs')\n",
    "plt.ylabel('Loss')\n",
    "plt.legend()\n",
    "\n",
    "plt.show()\n",
    "\n",
    "plt.clf()\n",
    "\n",
    "plt.plot(epochs, acc, 'bo', label='Training acc')\n",
    "plt.plot(epochs, val_acc, 'b', label='Validation acc')\n",
    "plt.title('Training and validation accuracy')\n",
    "plt.xlabel('Epochs')\n",
    "plt.ylabel('Accuracy')\n",
    "plt.legend()\n",
    "\n",
    "plt.show()"
   ]
  },
  {
   "cell_type": "markdown",
   "id": "c540945b",
   "metadata": {},
   "source": [
    "#### > 임베딩 레이어 분석"
   ]
  },
  {
   "cell_type": "code",
   "execution_count": 22,
   "id": "c958f1c2",
   "metadata": {},
   "outputs": [],
   "source": [
    "embedding_model = model.layers[0]\n",
    "weights_model = embedding_model.get_weights()[0]\n",
    "\n",
    "embedding_cnn = cnn.layers[0]\n",
    "weights_cnn = embedding_cnn.get_weights()[0]\n",
    "\n",
    "embedding_simple = simple.layers[0]\n",
    "weights_simple = embedding_simple.get_weights()[0]\n",
    "\n",
    "word2vec_file_path_model = os.getenv('HOME')+'/aiffel/sentiment_classification/word2vec_lstm.txt'\n",
    "f = open(word2vec_file_path_model, 'w')\n",
    "f.write('{} {}\\n'.format(vocab_size-4, word_vector_dim))\n",
    "\n",
    "vectors = model.get_weights()[0]\n",
    "for i in range(4,vocab_size):\n",
    "    f.write('{} {}\\n'.format(index_to_word[i], ' '.join(map(str, list(vectors[i, :])))))\n",
    "f.close()\n",
    "\n",
    "word2vec_file_path_cnn = os.getenv('HOME')+'/aiffel/sentiment_classification/word2vec_cnn.txt'\n",
    "f = open(word2vec_file_path_cnn, 'w')\n",
    "f.write('{} {}\\n'.format(vocab_size-4, word_vector_dim))\n",
    "\n",
    "vectors = cnn.get_weights()[0]\n",
    "for i in range(4,vocab_size):\n",
    "    f.write('{} {}\\n'.format(index_to_word[i], ' '.join(map(str, list(vectors[i, :])))))\n",
    "f.close()\n",
    "\n",
    "word2vec_file_path_simple = os.getenv('HOME')+'/aiffel/sentiment_classification/word2vec_simple.txt'\n",
    "f = open(word2vec_file_path_simple, 'w')\n",
    "f.write('{} {}\\n'.format(vocab_size-4, word_vector_dim))\n",
    "\n",
    "vectors = simple.get_weights()[0]\n",
    "for i in range(4,vocab_size):\n",
    "    f.write('{} {}\\n'.format(index_to_word[i], ' '.join(map(str, list(vectors[i, :])))))\n",
    "f.close()\n",
    "\n",
    "word_vectors_model = Word2VecKeyedVectors.load_word2vec_format(word2vec_file_path_model, binary=False)\n",
    "\n",
    "word_vectors_cnn = Word2VecKeyedVectors.load_word2vec_format(word2vec_file_path_cnn, binary=False)\n",
    "\n",
    "word_vectors_simple = Word2VecKeyedVectors.load_word2vec_format(word2vec_file_path_simple, binary=False)"
   ]
  },
  {
   "cell_type": "markdown",
   "id": "ac6f101f",
   "metadata": {},
   "source": [
    "#### > 한국어 Word2Vec 적용"
   ]
  },
  {
   "cell_type": "code",
   "execution_count": 23,
   "id": "5a3aaf00",
   "metadata": {},
   "outputs": [
    {
     "name": "stdout",
     "output_type": "stream",
     "text": [
      "[-5.3693395e-02 -7.8077865e-01  9.6723193e-01 -7.4758315e-01\n",
      " -8.9660138e-01 -1.3199822e+00  6.2043767e-04 -6.7502671e-01\n",
      "  1.3555537e-01 -6.8331599e-01  1.9583182e-01  1.0852404e+00\n",
      "  2.1468368e-01  2.8309336e-01 -4.0457886e-01 -3.6459949e-02\n",
      "  5.6666532e-03 -5.4509687e-01  2.2584310e+00 -5.6259340e-01\n",
      "  6.5086263e-01 -1.8419718e+00 -2.1760310e-01 -1.0132394e+00\n",
      "  1.5185098e-01 -1.8222044e+00 -1.3982623e+00  1.7238414e+00\n",
      " -1.3829633e+00  6.1575718e-02  7.3994440e-01  1.0549146e+00\n",
      " -5.4366481e-01  6.0019165e-02  4.3806583e-01 -7.5868535e-01\n",
      "  1.2300022e+00 -7.9196030e-01 -1.6581323e+00 -3.9155692e-01\n",
      " -1.3105632e+00  8.5336879e-02 -2.7811906e-01 -1.2887888e-01\n",
      "  1.5672020e+00 -1.0730708e-01  3.4074798e-01 -5.3951442e-01\n",
      "  5.1790684e-01  1.5970176e+00  1.5166098e+00 -1.9613689e-02\n",
      " -1.0175781e+00  1.0776117e-02 -4.1133726e-01 -4.0709490e-01\n",
      " -1.8630189e-01  1.1953371e+00 -2.0529389e+00  5.4851735e-01\n",
      " -1.2525855e+00  2.4897890e-01 -1.0798528e+00  2.5326777e+00\n",
      "  1.2076815e+00  1.3111408e+00  9.2739034e-01  2.2980000e-01\n",
      "  1.2924665e+00 -1.0678917e+00  9.2687571e-01 -2.5648434e+00\n",
      "  3.0993211e-01 -8.7689507e-01  1.3491232e+00  1.9081953e-01\n",
      " -1.1953725e+00  8.9538324e-01  2.2271841e+00  6.2327409e-01\n",
      " -7.0153445e-01 -6.4361483e-01  2.5620547e-01 -2.2041206e-01\n",
      " -1.2699916e+00 -1.2062807e+00  1.1993917e+00 -3.6276078e-01\n",
      " -1.6243054e+00  1.7003458e+00  1.4959526e+00 -1.8603187e+00\n",
      "  5.2999359e-01 -6.1834775e-02  8.7550598e-01 -1.6906222e+00\n",
      " -3.3206320e-01 -1.0427604e+00  1.1143509e+00 -1.4776740e-03\n",
      "  1.6258161e-01  9.2897147e-01  8.0306071e-01 -9.4893181e-01\n",
      "  5.2217561e-01  1.5127454e+00 -9.2305340e-02 -1.3814297e+00\n",
      "  8.1032105e-03 -1.4238347e+00  8.6581951e-01 -2.8441444e-01\n",
      "  1.7184410e+00  2.7891383e-01  3.2887360e-01  5.2675688e-01\n",
      " -5.0155729e-01 -4.6955928e-01 -4.6886384e-01 -5.0018543e-01\n",
      "  7.2872120e-01 -2.4435456e-01  6.8066573e-01  1.0688007e+00\n",
      " -1.3603760e+00  1.2265990e+00  4.4154307e-01 -4.2376515e-01\n",
      " -1.4495663e-01  1.7640816e-01 -1.0069877e+00  9.9518770e-01\n",
      "  1.7741896e+00  1.3261127e+00 -8.9179093e-01  4.0089786e-01\n",
      "  1.1123713e+00 -2.4952080e+00  3.8792338e-02  2.5231284e-01\n",
      " -2.6123375e-01  7.9666299e-01 -1.0498821e+00  6.7247719e-01\n",
      " -4.0273014e-01 -1.9973752e+00  1.2353318e+00 -9.2051022e-02\n",
      "  4.6527013e-01  9.1308273e-02  7.2386682e-01 -1.7560725e+00\n",
      "  2.9675165e-01 -6.2843734e-01  7.3666257e-01 -6.0286307e-01\n",
      " -4.3852404e-01  1.3893689e+00 -2.9179676e-02 -1.5794673e+00\n",
      " -3.0718952e-01 -7.4424219e-01  4.4600743e-01  7.3182416e-01\n",
      " -9.4003874e-01 -6.2616962e-01  1.2459950e+00  4.5996156e-01\n",
      " -1.4326286e-01  2.4688268e+00 -8.6987829e-01  1.0419875e+00\n",
      "  1.4267242e-01 -6.4436954e-01  8.0997247e-01 -5.4725808e-01\n",
      "  1.1380754e+00 -7.9422414e-01  3.2377338e-01  7.0351678e-01\n",
      "  5.9708101e-01  1.5177093e+00 -5.7365251e-01  3.2487640e-01\n",
      "  5.3628244e-02  2.3018733e-01  1.8385845e-01  1.2438664e+00\n",
      " -9.2979896e-01  6.7672467e-01  2.2998383e+00  8.9625323e-01\n",
      " -8.2618266e-01  9.6896768e-01  8.3589756e-01  4.0959930e-01\n",
      "  4.6731594e-01 -1.8502548e-02  2.1297789e+00 -8.1134021e-01]\n",
      "[('연출', 0.5039602518081665),\n",
      " ('뮤직비디오', 0.468474805355072),\n",
      " ('주연', 0.45783281326293945),\n",
      " ('출연', 0.4573212265968323),\n",
      " ('안무', 0.4553908705711365),\n",
      " ('캐스팅', 0.43967583775520325),\n",
      " ('조연', 0.4288240671157837),\n",
      " ('단역', 0.4258745610713959),\n",
      " ('영화화', 0.4199691116809845),\n",
      " ('냄새', 0.4133602976799011)]\n"
     ]
    }
   ],
   "source": [
    "import pprint\n",
    "\n",
    "path = os.getenv('HOME')+'/aiffel/sentiment_classification/data/ko.bin'\n",
    "ko_vec = Word2Vec.load(path)\n",
    "\n",
    "print(ko_vec.wv[\"연기\"])\n",
    "pprint.pprint(ko_vec.wv.most_similar(\"연기\"))\n",
    "\n",
    "ko_vec = ko_vec.wv"
   ]
  },
  {
   "cell_type": "code",
   "execution_count": 24,
   "id": "d3783fad",
   "metadata": {},
   "outputs": [],
   "source": [
    "vocab_size_ko_vec = 10000\n",
    "word_vector_dim_ko_vec = 200\n",
    "\n",
    "embedding_matrix = np.random.rand(vocab_size_ko_vec, word_vector_dim_ko_vec)\n",
    "\n",
    "for i in range(4,vocab_size_ko_vec):\n",
    "    if index_to_word[i] in ko_vec:\n",
    "        embedding_matrix[i] = ko_vec[index_to_word[i]]"
   ]
  },
  {
   "cell_type": "code",
   "execution_count": 25,
   "id": "9b0898ff",
   "metadata": {},
   "outputs": [
    {
     "name": "stdout",
     "output_type": "stream",
     "text": [
      "Model: \"sequential_3\"\n",
      "_________________________________________________________________\n",
      "Layer (type)                 Output Shape              Param #   \n",
      "=================================================================\n",
      "embedding_3 (Embedding)      (None, 41, 200)           2000000   \n",
      "_________________________________________________________________\n",
      "lstm_1 (LSTM)                (None, 128)               168448    \n",
      "_________________________________________________________________\n",
      "dense_6 (Dense)              (None, 128)               16512     \n",
      "_________________________________________________________________\n",
      "dense_7 (Dense)              (None, 1)                 129       \n",
      "=================================================================\n",
      "Total params: 2,185,089\n",
      "Trainable params: 2,185,089\n",
      "Non-trainable params: 0\n",
      "_________________________________________________________________\n",
      "Model: \"sequential_4\"\n",
      "_________________________________________________________________\n",
      "Layer (type)                 Output Shape              Param #   \n",
      "=================================================================\n",
      "embedding_4 (Embedding)      (None, 41, 200)           2000000   \n",
      "_________________________________________________________________\n",
      "dropout (Dropout)            (None, 41, 200)           0         \n",
      "_________________________________________________________________\n",
      "conv1d_2 (Conv1D)            (None, 35, 512)           717312    \n",
      "_________________________________________________________________\n",
      "max_pooling1d_1 (MaxPooling1 (None, 7, 512)            0         \n",
      "_________________________________________________________________\n",
      "conv1d_3 (Conv1D)            (None, 1, 512)            1835520   \n",
      "_________________________________________________________________\n",
      "global_max_pooling1d_1 (Glob (None, 512)               0         \n",
      "_________________________________________________________________\n",
      "dense_8 (Dense)              (None, 256)               131328    \n",
      "_________________________________________________________________\n",
      "dense_9 (Dense)              (None, 1)                 257       \n",
      "=================================================================\n",
      "Total params: 4,684,417\n",
      "Trainable params: 4,684,417\n",
      "Non-trainable params: 0\n",
      "_________________________________________________________________\n",
      "Model: \"sequential_5\"\n",
      "_________________________________________________________________\n",
      "Layer (type)                 Output Shape              Param #   \n",
      "=================================================================\n",
      "embedding_5 (Embedding)      (None, 41, 200)           2000000   \n",
      "_________________________________________________________________\n",
      "global_average_pooling1d_1 ( (None, 200)               0         \n",
      "_________________________________________________________________\n",
      "dense_10 (Dense)             (None, 128)               25728     \n",
      "_________________________________________________________________\n",
      "dropout_1 (Dropout)          (None, 128)               0         \n",
      "_________________________________________________________________\n",
      "dense_11 (Dense)             (None, 1)                 129       \n",
      "=================================================================\n",
      "Total params: 2,025,857\n",
      "Trainable params: 2,025,857\n",
      "Non-trainable params: 0\n",
      "_________________________________________________________________\n"
     ]
    }
   ],
   "source": [
    "vocab_size = 10000\n",
    "word_vector_dim = 200 #https://github.com/Kyubyong/wordvectors 참고. 한국어 word2vec는 벡터 사이즈가 200이다.\n",
    "\n",
    "# LSTM\n",
    "lstm = keras.Sequential()\n",
    "lstm.add(keras.layers.Embedding(vocab_size, \n",
    "                                 word_vector_dim, \n",
    "                                 embeddings_initializer=Constant(embedding_matrix),\n",
    "                                 input_length=maxlen, \n",
    "                                 trainable=True))\n",
    "lstm.add(keras.layers.LSTM(128))\n",
    "lstm.add(keras.layers.Dense(128, activation='relu'))\n",
    "lstm.add(keras.layers.Dense(1, activation='sigmoid'))\n",
    "\n",
    "lstm.summary()\n",
    "\n",
    "# 1-D CNN\n",
    "cnn = keras.Sequential()\n",
    "cnn.add(keras.layers.Embedding(vocab_size, \n",
    "                                 word_vector_dim, \n",
    "                                 embeddings_initializer=Constant(embedding_matrix),\n",
    "                                 input_length=maxlen, \n",
    "                                 trainable=True))\n",
    "cnn.add(keras.layers.Dropout(0.5))\n",
    "cnn.add(keras.layers.Conv1D(512, 7, activation='relu'))\n",
    "cnn.add(keras.layers.MaxPooling1D(5))\n",
    "cnn.add(keras.layers.Conv1D(512, 7, activation='relu'))\n",
    "cnn.add(keras.layers.GlobalMaxPooling1D())\n",
    "cnn.add(keras.layers.Dense(256, activation='relu'))\n",
    "cnn.add(keras.layers.Dense(1, activation='sigmoid'))\n",
    "\n",
    "cnn.summary()\n",
    "\n",
    "# one GlobalAveragePooling1D layer\n",
    "simple = keras.Sequential()\n",
    "simple.add(keras.layers.Embedding(vocab_size, \n",
    "                                 word_vector_dim, \n",
    "                                 embeddings_initializer=Constant(embedding_matrix),\n",
    "                                 input_length=maxlen, \n",
    "                                 trainable=True))\n",
    "\n",
    "simple.add(keras.layers.GlobalAveragePooling1D())\n",
    "simple.add(keras.layers.Dense(128, activation='relu'))\n",
    "simple.add(keras.layers.Dropout(0.1))\n",
    "simple.add(keras.layers.Dense(1, activation='sigmoid'))\n",
    "\n",
    "simple.summary()"
   ]
  },
  {
   "cell_type": "markdown",
   "id": "298836a6",
   "metadata": {},
   "source": [
    "#### > 모델훈련"
   ]
  },
  {
   "cell_type": "code",
   "execution_count": 26,
   "id": "51afdbea",
   "metadata": {},
   "outputs": [
    {
     "name": "stdout",
     "output_type": "stream",
     "text": [
      "Epoch 1/4\n",
      "91/91 [==============================] - 4s 27ms/step - loss: 0.6739 - accuracy: 0.5561 - val_loss: 0.5616 - val_accuracy: 0.7220\n",
      "Epoch 2/4\n",
      "91/91 [==============================] - 2s 22ms/step - loss: 0.4831 - accuracy: 0.7761 - val_loss: 0.4240 - val_accuracy: 0.8069\n",
      "Epoch 3/4\n",
      "91/91 [==============================] - 2s 22ms/step - loss: 0.3731 - accuracy: 0.8389 - val_loss: 0.3982 - val_accuracy: 0.8284\n",
      "Epoch 4/4\n",
      "91/91 [==============================] - 2s 22ms/step - loss: 0.3098 - accuracy: 0.8719 - val_loss: 0.3573 - val_accuracy: 0.8434\n",
      "Epoch 1/10\n",
      "91/91 [==============================] - 8s 69ms/step - loss: 0.7854 - accuracy: 0.5888 - val_loss: 0.5684 - val_accuracy: 0.7043\n",
      "Epoch 2/10\n",
      "91/91 [==============================] - 5s 59ms/step - loss: 0.5391 - accuracy: 0.7279 - val_loss: 0.4791 - val_accuracy: 0.7725\n",
      "Epoch 3/10\n",
      "91/91 [==============================] - 5s 60ms/step - loss: 0.4785 - accuracy: 0.7707 - val_loss: 0.4413 - val_accuracy: 0.7946\n",
      "Epoch 4/10\n",
      "91/91 [==============================] - 5s 59ms/step - loss: 0.4345 - accuracy: 0.7953 - val_loss: 0.4277 - val_accuracy: 0.8019\n",
      "Epoch 5/10\n",
      "91/91 [==============================] - 5s 58ms/step - loss: 0.3923 - accuracy: 0.8229 - val_loss: 0.4030 - val_accuracy: 0.8163\n",
      "Epoch 6/10\n",
      "91/91 [==============================] - 5s 58ms/step - loss: 0.3583 - accuracy: 0.8391 - val_loss: 0.3883 - val_accuracy: 0.8247\n",
      "Epoch 7/10\n",
      "91/91 [==============================] - 5s 58ms/step - loss: 0.3323 - accuracy: 0.8528 - val_loss: 0.3879 - val_accuracy: 0.8241\n",
      "Epoch 8/10\n",
      "91/91 [==============================] - 5s 58ms/step - loss: 0.3002 - accuracy: 0.8699 - val_loss: 0.3974 - val_accuracy: 0.8213\n",
      "Epoch 9/10\n",
      "91/91 [==============================] - 5s 57ms/step - loss: 0.2797 - accuracy: 0.8791 - val_loss: 0.4034 - val_accuracy: 0.8227\n",
      "Epoch 10/10\n",
      "91/91 [==============================] - 5s 57ms/step - loss: 0.2589 - accuracy: 0.8895 - val_loss: 0.3948 - val_accuracy: 0.8275\n",
      "Epoch 1/8\n",
      "91/91 [==============================] - 1s 8ms/step - loss: 0.6419 - accuracy: 0.6270 - val_loss: 0.5770 - val_accuracy: 0.7129\n",
      "Epoch 2/8\n",
      "91/91 [==============================] - 1s 7ms/step - loss: 0.5272 - accuracy: 0.7453 - val_loss: 0.4883 - val_accuracy: 0.7685\n",
      "Epoch 3/8\n",
      "91/91 [==============================] - 1s 7ms/step - loss: 0.4519 - accuracy: 0.7948 - val_loss: 0.4360 - val_accuracy: 0.8068\n",
      "Epoch 4/8\n",
      "91/91 [==============================] - 1s 7ms/step - loss: 0.4098 - accuracy: 0.8185 - val_loss: 0.4088 - val_accuracy: 0.8206\n",
      "Epoch 5/8\n",
      "91/91 [==============================] - 1s 7ms/step - loss: 0.3798 - accuracy: 0.8342 - val_loss: 0.4012 - val_accuracy: 0.8218\n",
      "Epoch 6/8\n",
      "91/91 [==============================] - 1s 7ms/step - loss: 0.3575 - accuracy: 0.8457 - val_loss: 0.3836 - val_accuracy: 0.8326\n",
      "Epoch 7/8\n",
      "91/91 [==============================] - 1s 7ms/step - loss: 0.3403 - accuracy: 0.8545 - val_loss: 0.3970 - val_accuracy: 0.8225\n",
      "Epoch 8/8\n",
      "91/91 [==============================] - 1s 7ms/step - loss: 0.3279 - accuracy: 0.8601 - val_loss: 0.3746 - val_accuracy: 0.8370\n"
     ]
    }
   ],
   "source": [
    "epochs = 4\n",
    "\n",
    "lstm.compile(optimizer='adam',\n",
    "              loss='binary_crossentropy',\n",
    "              metrics=['accuracy'])\n",
    "\n",
    "history_lstm = lstm.fit(partial_x_train,\n",
    "                    partial_y_train,\n",
    "                    epochs=epochs,\n",
    "                    batch_size=512,\n",
    "                    validation_data=(x_val, y_val),\n",
    "                    verbose=1)\n",
    "cnn.compile(optimizer='adam',\n",
    "              loss='binary_crossentropy',\n",
    "              metrics=['accuracy'])\n",
    "\n",
    "epochs = 10\n",
    "\n",
    "history_cnn = cnn.fit(partial_x_train,\n",
    "                    partial_y_train,\n",
    "                    epochs=epochs,\n",
    "                    batch_size=512,\n",
    "                    validation_data=(x_val, y_val),\n",
    "                    verbose=1)\n",
    "                    \n",
    "epochs = 8\n",
    "\n",
    "simple.compile(optimizer='adam',\n",
    "              loss='binary_crossentropy',\n",
    "              metrics=['accuracy'])\n",
    "\n",
    "history_simple = simple.fit(partial_x_train,\n",
    "                    partial_y_train,\n",
    "                    epochs=epochs,\n",
    "                    batch_size=512,\n",
    "                    validation_data=(x_val, y_val),\n",
    "                    verbose=1)"
   ]
  },
  {
   "cell_type": "markdown",
   "id": "d5b9939e",
   "metadata": {},
   "source": [
    "#### > 모델평가"
   ]
  },
  {
   "cell_type": "code",
   "execution_count": 27,
   "id": "3f0afc0b",
   "metadata": {},
   "outputs": [
    {
     "name": "stdout",
     "output_type": "stream",
     "text": [
      "1537/1537 - 3s - loss: 0.3627 - accuracy: 0.8401\n",
      "lstm:  [0.3626585602760315, 0.8401041626930237]\n",
      "1537/1537 - 3s - loss: 0.4005 - accuracy: 0.8244\n",
      "1-D CNN:  [0.400485634803772, 0.824440062046051]\n",
      "1537/1537 - 2s - loss: 0.3813 - accuracy: 0.8335\n",
      "1DLayer:  [0.3812727630138397, 0.8334926962852478]\n"
     ]
    }
   ],
   "source": [
    "# LSTM\n",
    "results_lstm = lstm.evaluate(x_test, y_test, verbose=2)\n",
    "print('lstm: ', results_lstm)\n",
    "\n",
    "# 1-D CNN\n",
    "results_cnn = cnn.evaluate(x_test, y_test, verbose=2)\n",
    "print('1-D CNN: ', results_cnn)\n",
    "\n",
    "# one GlobalAveragePooling1D layer\n",
    "results_simple = simple.evaluate(x_test, y_test, verbose=2)\n",
    "print('1DLayer: ', results_simple)"
   ]
  },
  {
   "cell_type": "markdown",
   "id": "293af21c",
   "metadata": {},
   "source": [
    "#### > 회고"
   ]
  },
  {
   "cell_type": "markdown",
   "id": "add99409",
   "metadata": {},
   "source": [
    "- 이번 프로젝트는 영화 리뷰 데이터를 분석하여 긍정인지 부정인지 감성분석을 하는 것이다.\n",
    "- 학습된 워드벡터를 이용하지 않았을 때보다 학습된 워드 임베딩을 적용한 모델을 사용 했을때, 정확도가 향상 되었지만 목표치인 85%이상에 도달하지 못했다.\n",
    "- 파라미터 값을 바꾸니까 더 낮아질때도 있어서 84에 맞추고 종료하였다.\n",
    "- 한국어 Word2Vec를 불러왔을때, 유사단어 출력은 잘 되는것으로 보였는데, 왜 평가에서는 생각보다 낮은 accuracy가 나오는지 모르겠다."
   ]
  },
  {
   "cell_type": "code",
   "execution_count": null,
   "id": "4a3c8e4d",
   "metadata": {},
   "outputs": [],
   "source": []
  }
 ],
 "metadata": {
  "kernelspec": {
   "display_name": "Python 3 (ipykernel)",
   "language": "python",
   "name": "python3"
  },
  "language_info": {
   "codemirror_mode": {
    "name": "ipython",
    "version": 3
   },
   "file_extension": ".py",
   "mimetype": "text/x-python",
   "name": "python",
   "nbconvert_exporter": "python",
   "pygments_lexer": "ipython3",
   "version": "3.9.7"
  }
 },
 "nbformat": 4,
 "nbformat_minor": 5
}
