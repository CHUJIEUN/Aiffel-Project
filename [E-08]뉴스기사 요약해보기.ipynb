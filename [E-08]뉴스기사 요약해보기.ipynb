{
 "cells": [
  {
   "cell_type": "markdown",
   "id": "e030a592",
   "metadata": {},
   "source": [
    "## EXPLORATION 8. 뉴스 요약봇 만들기"
   ]
  },
  {
   "cell_type": "markdown",
   "id": "4b39e60a",
   "metadata": {},
   "source": [
    "#### □ 텍스트 요약(Text Summarization)이란?\n",
    "- 긴 길이의 문서(Document) 원문을 핵심 주제만으로 구성된 짧은 요약(Summary) 문장들로 변환하는 것\n",
    "- 요약 전후에 정보 손실 발생이 최소화되어야 한다\n",
    "\n",
    "#### □ 추출적 요약\n",
    "- 단어 그대로 원문에서 핵심 문장들을 추출해서 요약하는 방식\n",
    "- 그러나 원문에서 추출된 핵심 문장들의 연결이 자연스럽지 않을 수 있다.\n",
    "\n",
    "#### □ 추상적 요약\n",
    "- 원문으로부터 내용이 요약된 새로운 문장을 생성해내는 것\n",
    "- 자연어 처리 분야 중 자연어 생성(Natural Language Generation, NLG)의 영역\n",
    "- 원문을 구성하는 문장 중 어느 것이 요약문에 들어갈 핵심문장인지를 판별한다는 점에서 문장 분류(Text Classification) 문제로 볼 수 있을 것"
   ]
  },
  {
   "cell_type": "markdown",
   "id": "99801170",
   "metadata": {},
   "source": [
    "-----------------------------------------------------------------------------"
   ]
  },
  {
   "cell_type": "markdown",
   "id": "8f6902ba",
   "metadata": {},
   "source": [
    "### > 데이터 준비"
   ]
  },
  {
   "cell_type": "markdown",
   "id": "32999b20",
   "metadata": {},
   "source": [
    "> - 뉴스 기사 데이터(news_summary_more.csv) 사용\n",
    "> - 아래의 코드로 데이터 다운로드"
   ]
  },
  {
   "cell_type": "code",
   "execution_count": 1,
   "id": "f429f2ee",
   "metadata": {},
   "outputs": [
    {
     "name": "stderr",
     "output_type": "stream",
     "text": [
      "[nltk_data] Downloading package stopwords to /aiffel/nltk_data...\n",
      "[nltk_data]   Package stopwords is already up-to-date!\n"
     ]
    }
   ],
   "source": [
    "# 필요한 모듈 import\n",
    "import nltk\n",
    "nltk.download('stopwords')\n",
    "\n",
    "import numpy as np\n",
    "import pandas as pd\n",
    "import os\n",
    "import re\n",
    "import matplotlib.pyplot as plt\n",
    "\n",
    "from sklearn.model_selection import train_test_split\n",
    "from nltk.corpus import stopwords\n",
    "from bs4 import BeautifulSoup \n",
    "from tensorflow.keras.preprocessing.text import Tokenizer \n",
    "from tensorflow.keras.preprocessing.sequence import pad_sequences\n",
    "import urllib.request"
   ]
  },
  {
   "cell_type": "code",
   "execution_count": 2,
   "id": "4e8b118a",
   "metadata": {},
   "outputs": [],
   "source": [
    "urllib.request.urlretrieve(\"https://raw.githubusercontent.com/sunnysai12345/News_Summary/master/news_summary_more.csv\", filename=\"news_summary_more.csv\")\n",
    "data = pd.read_csv('news_summary_more.csv', encoding='iso-8859-1')"
   ]
  },
  {
   "cell_type": "code",
   "execution_count": 3,
   "id": "58f02af9",
   "metadata": {},
   "outputs": [
    {
     "data": {
      "text/html": [
       "<div>\n",
       "<style scoped>\n",
       "    .dataframe tbody tr th:only-of-type {\n",
       "        vertical-align: middle;\n",
       "    }\n",
       "\n",
       "    .dataframe tbody tr th {\n",
       "        vertical-align: top;\n",
       "    }\n",
       "\n",
       "    .dataframe thead th {\n",
       "        text-align: right;\n",
       "    }\n",
       "</style>\n",
       "<table border=\"1\" class=\"dataframe\">\n",
       "  <thead>\n",
       "    <tr style=\"text-align: right;\">\n",
       "      <th></th>\n",
       "      <th>headlines</th>\n",
       "      <th>text</th>\n",
       "    </tr>\n",
       "  </thead>\n",
       "  <tbody>\n",
       "    <tr>\n",
       "      <th>50922</th>\n",
       "      <td>WeÃ¢ÂÂll be profitable before 2022: Uber CEO...</td>\n",
       "      <td>Uber CEO Dara Khosrowshahi has said the startu...</td>\n",
       "    </tr>\n",
       "    <tr>\n",
       "      <th>86893</th>\n",
       "      <td>Russia and Ukraine engage in Twitter war</td>\n",
       "      <td>The official Twitter accounts of Ukraine and R...</td>\n",
       "    </tr>\n",
       "    <tr>\n",
       "      <th>94918</th>\n",
       "      <td>Zeenat Aman debuts in web series with Love Lif...</td>\n",
       "      <td>Veteran actress Zeenat Aman is making her debu...</td>\n",
       "    </tr>\n",
       "    <tr>\n",
       "      <th>70926</th>\n",
       "      <td>Malayalam actress slammed for eating meat duri...</td>\n",
       "      <td>Malayalam actress Surabhi Lakshmi has been sla...</td>\n",
       "    </tr>\n",
       "    <tr>\n",
       "      <th>30030</th>\n",
       "      <td>Ex-Infosys CEO Vishal Sikka earned about Ã¢ÂÂ...</td>\n",
       "      <td>Former Infosys CEO Vishal Sikka, who quit the ...</td>\n",
       "    </tr>\n",
       "    <tr>\n",
       "      <th>23439</th>\n",
       "      <td>RBI hikes repo rate by 25 bps for second time ...</td>\n",
       "      <td>The RBI's monetary policy committee in its thi...</td>\n",
       "    </tr>\n",
       "    <tr>\n",
       "      <th>13023</th>\n",
       "      <td>Plastic waste piling in Japan post China impor...</td>\n",
       "      <td>Japan on Thursday said its plastic waste was p...</td>\n",
       "    </tr>\n",
       "    <tr>\n",
       "      <th>25978</th>\n",
       "      <td>Infosys-made analytics help find GST defaulter...</td>\n",
       "      <td>Bihar Deputy CM and GST Council member, Sushil...</td>\n",
       "    </tr>\n",
       "    <tr>\n",
       "      <th>72959</th>\n",
       "      <td>Italian hotel has beds that can be rolled out ...</td>\n",
       "      <td>An Italian hotel allows guests to sleep on \"wh...</td>\n",
       "    </tr>\n",
       "    <tr>\n",
       "      <th>34291</th>\n",
       "      <td>Nothing going on: Chahal on rumours of marriag...</td>\n",
       "      <td>Reacting to media reports of his rumoured wedd...</td>\n",
       "    </tr>\n",
       "  </tbody>\n",
       "</table>\n",
       "</div>"
      ],
      "text/plain": [
       "                                               headlines  \\\n",
       "50922  WeÃ¢ÂÂll be profitable before 2022: Uber CEO...   \n",
       "86893           Russia and Ukraine engage in Twitter war   \n",
       "94918  Zeenat Aman debuts in web series with Love Lif...   \n",
       "70926  Malayalam actress slammed for eating meat duri...   \n",
       "30030  Ex-Infosys CEO Vishal Sikka earned about Ã¢ÂÂ...   \n",
       "23439  RBI hikes repo rate by 25 bps for second time ...   \n",
       "13023  Plastic waste piling in Japan post China impor...   \n",
       "25978  Infosys-made analytics help find GST defaulter...   \n",
       "72959  Italian hotel has beds that can be rolled out ...   \n",
       "34291  Nothing going on: Chahal on rumours of marriag...   \n",
       "\n",
       "                                                    text  \n",
       "50922  Uber CEO Dara Khosrowshahi has said the startu...  \n",
       "86893  The official Twitter accounts of Ukraine and R...  \n",
       "94918  Veteran actress Zeenat Aman is making her debu...  \n",
       "70926  Malayalam actress Surabhi Lakshmi has been sla...  \n",
       "30030  Former Infosys CEO Vishal Sikka, who quit the ...  \n",
       "23439  The RBI's monetary policy committee in its thi...  \n",
       "13023  Japan on Thursday said its plastic waste was p...  \n",
       "25978  Bihar Deputy CM and GST Council member, Sushil...  \n",
       "72959  An Italian hotel allows guests to sleep on \"wh...  \n",
       "34291  Reacting to media reports of his rumoured wedd...  "
      ]
     },
     "execution_count": 3,
     "metadata": {},
     "output_type": "execute_result"
    }
   ],
   "source": [
    "data.sample(10)"
   ]
  },
  {
   "cell_type": "markdown",
   "id": "3f8ecdc8",
   "metadata": {},
   "source": [
    "### > 데이터 전처리"
   ]
  },
  {
   "cell_type": "markdown",
   "id": "3ecc347a",
   "metadata": {},
   "source": [
    "> 데이터 정리"
   ]
  },
  {
   "cell_type": "code",
   "execution_count": 5,
   "id": "6aa54de6",
   "metadata": {},
   "outputs": [
    {
     "name": "stdout",
     "output_type": "stream",
     "text": [
      "text 열에서 중복을 배제한 유일한 샘플의 수 : 98360\n",
      "headlines 열에서 중복을 배제한 유일한 샘플의 수 : 98280\n"
     ]
    }
   ],
   "source": [
    "# 중복 샘플 유무 확인\n",
    "print('text 열에서 중복을 배제한 유일한 샘플의 수 :', data['text'].nunique())\n",
    "print('headlines 열에서 중복을 배제한 유일한 샘플의 수 :', data['headlines'].nunique())"
   ]
  },
  {
   "cell_type": "code",
   "execution_count": 6,
   "id": "5a392818",
   "metadata": {},
   "outputs": [
    {
     "name": "stdout",
     "output_type": "stream",
     "text": [
      "전체 샘플수 : 98360\n"
     ]
    }
   ],
   "source": [
    "# inplace=True 를 설정하면 DataFrame 타입 값을 return 하지 않고 data 내부를 직접적으로 바꿈\n",
    "data.drop_duplicates(subset = ['text'], inplace=True)\n",
    "print('전체 샘플수 :', (len(data)))"
   ]
  },
  {
   "cell_type": "code",
   "execution_count": 7,
   "id": "841b9d8c",
   "metadata": {},
   "outputs": [
    {
     "name": "stdout",
     "output_type": "stream",
     "text": [
      "headlines    0\n",
      "text         0\n",
      "dtype: int64\n"
     ]
    }
   ],
   "source": [
    "# 데이터에 Null 값이 있는지 확인\n",
    "print(data.isnull().sum())"
   ]
  },
  {
   "cell_type": "code",
   "execution_count": 8,
   "id": "cef941dd",
   "metadata": {},
   "outputs": [
    {
     "name": "stdout",
     "output_type": "stream",
     "text": [
      "정규화 사전의 수:  120\n"
     ]
    }
   ],
   "source": [
    "# 텍스트 정규화와 불용어 제거\n",
    "contractions = {\"ain't\": \"is not\", \"aren't\": \"are not\",\"can't\": \"cannot\", \"'cause\": \"because\", \"could've\": \"could have\", \"couldn't\": \"could not\",\n",
    "                           \"didn't\": \"did not\",  \"doesn't\": \"does not\", \"don't\": \"do not\", \"hadn't\": \"had not\", \"hasn't\": \"has not\", \"haven't\": \"have not\",\n",
    "                           \"he'd\": \"he would\",\"he'll\": \"he will\", \"he's\": \"he is\", \"how'd\": \"how did\", \"how'd'y\": \"how do you\", \"how'll\": \"how will\", \"how's\": \"how is\",\n",
    "                           \"I'd\": \"I would\", \"I'd've\": \"I would have\", \"I'll\": \"I will\", \"I'll've\": \"I will have\",\"I'm\": \"I am\", \"I've\": \"I have\", \"i'd\": \"i would\",\n",
    "                           \"i'd've\": \"i would have\", \"i'll\": \"i will\",  \"i'll've\": \"i will have\",\"i'm\": \"i am\", \"i've\": \"i have\", \"isn't\": \"is not\", \"it'd\": \"it would\",\n",
    "                           \"it'd've\": \"it would have\", \"it'll\": \"it will\", \"it'll've\": \"it will have\",\"it's\": \"it is\", \"let's\": \"let us\", \"ma'am\": \"madam\",\n",
    "                           \"mayn't\": \"may not\", \"might've\": \"might have\",\"mightn't\": \"might not\",\"mightn't've\": \"might not have\", \"must've\": \"must have\",\n",
    "                           \"mustn't\": \"must not\", \"mustn't've\": \"must not have\", \"needn't\": \"need not\", \"needn't've\": \"need not have\",\"o'clock\": \"of the clock\",\n",
    "                           \"oughtn't\": \"ought not\", \"oughtn't've\": \"ought not have\", \"shan't\": \"shall not\", \"sha'n't\": \"shall not\", \"shan't've\": \"shall not have\",\n",
    "                           \"she'd\": \"she would\", \"she'd've\": \"she would have\", \"she'll\": \"she will\", \"she'll've\": \"she will have\", \"she's\": \"she is\",\n",
    "                           \"should've\": \"should have\", \"shouldn't\": \"should not\", \"shouldn't've\": \"should not have\", \"so've\": \"so have\",\"so's\": \"so as\",\n",
    "                           \"this's\": \"this is\",\"that'd\": \"that would\", \"that'd've\": \"that would have\", \"that's\": \"that is\", \"there'd\": \"there would\",\n",
    "                           \"there'd've\": \"there would have\", \"there's\": \"there is\", \"here's\": \"here is\",\"they'd\": \"they would\", \"they'd've\": \"they would have\",\n",
    "                           \"they'll\": \"they will\", \"they'll've\": \"they will have\", \"they're\": \"they are\", \"they've\": \"they have\", \"to've\": \"to have\",\n",
    "                           \"wasn't\": \"was not\", \"we'd\": \"we would\", \"we'd've\": \"we would have\", \"we'll\": \"we will\", \"we'll've\": \"we will have\", \"we're\": \"we are\",\n",
    "                           \"we've\": \"we have\", \"weren't\": \"were not\", \"what'll\": \"what will\", \"what'll've\": \"what will have\", \"what're\": \"what are\",\n",
    "                           \"what's\": \"what is\", \"what've\": \"what have\", \"when's\": \"when is\", \"when've\": \"when have\", \"where'd\": \"where did\", \"where's\": \"where is\",\n",
    "                           \"where've\": \"where have\", \"who'll\": \"who will\", \"who'll've\": \"who will have\", \"who's\": \"who is\", \"who've\": \"who have\",\n",
    "                           \"why's\": \"why is\", \"why've\": \"why have\", \"will've\": \"will have\", \"won't\": \"will not\", \"won't've\": \"will not have\",\n",
    "                           \"would've\": \"would have\", \"wouldn't\": \"would not\", \"wouldn't've\": \"would not have\", \"y'all\": \"you all\",\n",
    "                           \"y'all'd\": \"you all would\",\"y'all'd've\": \"you all would have\",\"y'all're\": \"you all are\",\"y'all've\": \"you all have\",\n",
    "                           \"you'd\": \"you would\", \"you'd've\": \"you would have\", \"you'll\": \"you will\", \"you'll've\": \"you will have\",\n",
    "                           \"you're\": \"you are\", \"you've\": \"you have\"}\n",
    "\n",
    "print(\"정규화 사전의 수: \", len(contractions))"
   ]
  },
  {
   "cell_type": "code",
   "execution_count": 9,
   "id": "e4f69703",
   "metadata": {},
   "outputs": [
    {
     "name": "stdout",
     "output_type": "stream",
     "text": [
      "불용어 개수 : 179\n",
      "['i', 'me', 'my', 'myself', 'we', 'our', 'ours', 'ourselves', 'you', \"you're\", \"you've\", \"you'll\", \"you'd\", 'your', 'yours', 'yourself', 'yourselves', 'he', 'him', 'his', 'himself', 'she', \"she's\", 'her', 'hers', 'herself', 'it', \"it's\", 'its', 'itself', 'they', 'them', 'their', 'theirs', 'themselves', 'what', 'which', 'who', 'whom', 'this', 'that', \"that'll\", 'these', 'those', 'am', 'is', 'are', 'was', 'were', 'be', 'been', 'being', 'have', 'has', 'had', 'having', 'do', 'does', 'did', 'doing', 'a', 'an', 'the', 'and', 'but', 'if', 'or', 'because', 'as', 'until', 'while', 'of', 'at', 'by', 'for', 'with', 'about', 'against', 'between', 'into', 'through', 'during', 'before', 'after', 'above', 'below', 'to', 'from', 'up', 'down', 'in', 'out', 'on', 'off', 'over', 'under', 'again', 'further', 'then', 'once', 'here', 'there', 'when', 'where', 'why', 'how', 'all', 'any', 'both', 'each', 'few', 'more', 'most', 'other', 'some', 'such', 'no', 'nor', 'not', 'only', 'own', 'same', 'so', 'than', 'too', 'very', 's', 't', 'can', 'will', 'just', 'don', \"don't\", 'should', \"should've\", 'now', 'd', 'll', 'm', 'o', 're', 've', 'y', 'ain', 'aren', \"aren't\", 'couldn', \"couldn't\", 'didn', \"didn't\", 'doesn', \"doesn't\", 'hadn', \"hadn't\", 'hasn', \"hasn't\", 'haven', \"haven't\", 'isn', \"isn't\", 'ma', 'mightn', \"mightn't\", 'mustn', \"mustn't\", 'needn', \"needn't\", 'shan', \"shan't\", 'shouldn', \"shouldn't\", 'wasn', \"wasn't\", 'weren', \"weren't\", 'won', \"won't\", 'wouldn', \"wouldn't\"]\n"
     ]
    }
   ],
   "source": [
    "# NLTK 에서 제공하는 불용어 리스트를 참조해 샘플에서 불용어 제거\n",
    "\n",
    "print('불용어 개수 :', len(stopwords.words('english') ))\n",
    "print(stopwords.words('english'))"
   ]
  },
  {
   "cell_type": "code",
   "execution_count": 10,
   "id": "4800ab1f",
   "metadata": {},
   "outputs": [],
   "source": [
    "#데이터 전처리 함수\n",
    "def preprocess_sentence(sentence, remove_stopwords=True):\n",
    "    sentence = sentence.lower() # 텍스트 소문자화\n",
    "    sentence = BeautifulSoup(sentence, \"lxml\").text # <br />, <a href = ...> 등의 html 태그 제거\n",
    "    sentence = re.sub(r'\\([^)]*\\)', '', sentence) # 괄호로 닫힌 문자열 (...) 제거 Ex) my husband (and myself!) for => my husband for\n",
    "    sentence = re.sub('\"','', sentence) # 쌍따옴표 \" 제거\n",
    "    sentence = ' '.join([contractions[t] if t in contractions else t for t in sentence.split(\" \")]) # 약어 정규화\n",
    "    sentence = re.sub(r\"'s\\b\",\"\",sentence) # 소유격 제거. Ex) roland's -> roland\n",
    "    sentence = re.sub(\"[^a-zA-Z]\", \" \", sentence) # 영어 외 문자(숫자, 특수문자 등) 공백으로 변환\n",
    "    sentence = re.sub('[m]{2,}', 'mm', sentence) # m이 3개 이상이면 2개로 변경. Ex) ummmmmmm yeah -> umm yeah\n",
    "    \n",
    "    # 불용어 제거 (text)\n",
    "    if remove_stopwords:\n",
    "        tokens = ' '.join(word for word in sentence.split() if not word in stopwords.words('english') if len(word) > 1)\n",
    "    # 불용어 미제거 (headlines)\n",
    "    else:\n",
    "        tokens = ' '.join(word for word in sentence.split() if len(word) > 1)\n",
    "    return tokens"
   ]
  },
  {
   "cell_type": "code",
   "execution_count": 11,
   "id": "e76a6a74",
   "metadata": {},
   "outputs": [
    {
     "name": "stdout",
     "output_type": "stream",
     "text": [
      "text:  everything bought great infact ordered twice third ordered wasfor mother father\n",
      "headlines: great way to start the day\n"
     ]
    }
   ],
   "source": [
    "# 전처리 전, 후 결과 확인\n",
    "temp_text = 'Everything I bought was great, infact I ordered twice and the third ordered was<br />for my mother and father.'\n",
    "temp_summary = 'Great way to start (or finish) the day!!!'\n",
    "\n",
    "print(\"text: \", preprocess_sentence(temp_text))\n",
    "print(\"headlines:\", preprocess_sentence(temp_summary, False))  # 불용어를 제거하지 않습니다."
   ]
  },
  {
   "cell_type": "code",
   "execution_count": 13,
   "id": "12b3d71d",
   "metadata": {},
   "outputs": [
    {
     "name": "stdout",
     "output_type": "stream",
     "text": [
      "text 전처리 후 결과:  ['saurav kant alumnus upgrad iiit pg program machine learning artificial intelligence sr systems engineer infosys almost years work experience program upgrad degree career support helped transition data scientist tech mahindra salary hike upgrad online power learning powered lakh careers', 'kunal shah credit card bill payment platform cred gave users chance win free food swiggy one year pranav kaushik delhi techie bagged reward spending cred coins users get one cred coin per rupee bill paid used avail rewards brands like ixigo bookmyshow ubereats cult fit', 'new zealand defeated india wickets fourth odi hamilton thursday win first match five match odi series india lost international match rohit sharma captaincy consecutive victories dating back march match witnessed india getting seventh lowest total odi cricket history', 'aegon life iterm insurance plan customers enjoy tax benefits premiums paid save taxes plan provides life cover age years also customers options insure critical illnesses disability accidental death benefit rider life cover age years', 'speaking sexual harassment allegations rajkumar hirani sonam kapoor said known hirani many years true metoo movement get derailed metoo movement always believe woman case need reserve judgment added hirani accused assistant worked sanju']\n"
     ]
    }
   ],
   "source": [
    "# 훈련 데이터 전체에 대한 전처리 수행 - 1.text 전처리\n",
    "\n",
    "clean_text = []\n",
    "# 전체 Text 데이터에 대한 전처리 : 10분 이상 시간이 걸릴 수 있습니다. \n",
    "for s in data['text']:\n",
    "    clean_text.append(preprocess_sentence(s))\n",
    "\n",
    "# 전처리 후 출력\n",
    "print(\"text 전처리 후 결과: \", clean_text[:5])"
   ]
  },
  {
   "cell_type": "code",
   "execution_count": 17,
   "id": "554332f4",
   "metadata": {},
   "outputs": [
    {
     "name": "stdout",
     "output_type": "stream",
     "text": [
      "headlines 전처리 후 결과:  ['upgrad learner switches to career in ml al with salary hike', 'delhi techie wins free food from swiggy for one year on cred', 'new zealand end rohit sharma led india match winning streak', 'aegon life iterm insurance plan helps customers save tax', 'have known hirani for yrs what if metoo claims are not true sonam']\n"
     ]
    }
   ],
   "source": [
    "# 훈련 데이터 전체에 대한 전처리 수행 - 2. headlines 전처리\n",
    "clean_headlines = []\n",
    "# 전체 headlines 데이터에 대한 전처리 : 5분 이상 시간이 걸릴 수 있습니다. \n",
    "for s in data['headlines']:\n",
    "    clean_headlines.append(preprocess_sentence(s, False))\n",
    "\n",
    "print(\"headlines 전처리 후 결과: \", clean_headlines[:5])"
   ]
  },
  {
   "cell_type": "code",
   "execution_count": 18,
   "id": "c52aa8e8",
   "metadata": {},
   "outputs": [],
   "source": [
    "data['text'] = clean_text\n",
    "data['headlines'] = clean_headlines\n",
    "\n",
    "# 빈 값을 Null 값으로 변환\n",
    "data.replace('', np.nan, inplace=True)"
   ]
  },
  {
   "cell_type": "code",
   "execution_count": 19,
   "id": "6d8ee014",
   "metadata": {},
   "outputs": [
    {
     "data": {
      "text/plain": [
       "headlines    0\n",
       "text         0\n",
       "dtype: int64"
      ]
     },
     "execution_count": 19,
     "metadata": {},
     "output_type": "execute_result"
    }
   ],
   "source": [
    "data.isnull().sum() #Null값 확인"
   ]
  },
  {
   "cell_type": "markdown",
   "id": "1351d18b",
   "metadata": {},
   "source": [
    "> 훈련데이터와 테스트데이터 분리"
   ]
  },
  {
   "cell_type": "code",
   "execution_count": 20,
   "id": "c5261f8c",
   "metadata": {},
   "outputs": [
    {
     "name": "stdout",
     "output_type": "stream",
     "text": [
      "text 의 최소 길이 : 1\n",
      "text 의 최대 길이 : 60\n",
      "text 의 평균 길이 : 35.09968483123221\n",
      "headlines 의 최소 길이 : 1\n",
      "headlines 의 최대 길이 : 16\n",
      "headlines 의 평균 길이 : 9.299532330215534\n"
     ]
    },
    {
     "data": {
      "image/png": "[encoded data removed]",
      "text/plain": [
       "<Figure size 432x288 with 2 Axes>"
      ]
     },
     "metadata": {
      "needs_background": "light"
     },
     "output_type": "display_data"
    },
    {
     "data": {
      "image/png": "[encoded data removed]",
      "text/plain": [
       "<Figure size 432x288 with 1 Axes>"
      ]
     },
     "metadata": {
      "needs_background": "light"
     },
     "output_type": "display_data"
    },
    {
     "data": {
      "image/png": "[encoded data removed]",
      "text/plain": [
       "<Figure size 432x288 with 1 Axes>"
      ]
     },
     "metadata": {
      "needs_background": "light"
     },
     "output_type": "display_data"
    }
   ],
   "source": [
    "# 샘플의 최대길이 정하기\n",
    "# 길이 분포 출력\n",
    "import matplotlib.pyplot as plt\n",
    "\n",
    "text_len = [len(s.split()) for s in data['text']]\n",
    "headlines_len = [len(s.split()) for s in data['headlines']]\n",
    "\n",
    "print('text 의 최소 길이 : {}'.format(np.min(text_len)))\n",
    "print('text 의 최대 길이 : {}'.format(np.max(text_len)))\n",
    "print('text 의 평균 길이 : {}'.format(np.mean(text_len)))\n",
    "print('headlines 의 최소 길이 : {}'.format(np.min(headlines_len)))\n",
    "print('headlines 의 최대 길이 : {}'.format(np.max(headlines_len)))\n",
    "print('headlines 의 평균 길이 : {}'.format(np.mean(headlines_len)))\n",
    "\n",
    "plt.subplot(1,2,1)\n",
    "plt.boxplot(headlines_len)\n",
    "plt.title('headlines')\n",
    "plt.subplot(1,2,2)\n",
    "plt.boxplot(text_len)\n",
    "plt.title('text')\n",
    "plt.tight_layout()\n",
    "plt.show()\n",
    "\n",
    "plt.title('headlines')\n",
    "plt.hist(headlines_len, bins = 40)\n",
    "plt.xlabel('length of samples')\n",
    "plt.ylabel('number of samples')\n",
    "plt.show()\n",
    "\n",
    "plt.title('text')\n",
    "plt.hist(text_len, bins = 40)\n",
    "plt.xlabel('length of samples')\n",
    "plt.ylabel('number of samples')\n",
    "plt.show()"
   ]
  },
  {
   "cell_type": "code",
   "execution_count": 28,
   "id": "82c3bff5",
   "metadata": {},
   "outputs": [],
   "source": [
    "text_max_len = 50\n",
    "headlines_max_len =15"
   ]
  },
  {
   "cell_type": "code",
   "execution_count": 29,
   "id": "66fd23c2",
   "metadata": {},
   "outputs": [],
   "source": [
    "def below_threshold_len(max_len, nested_list):\n",
    "  cnt = 0\n",
    "  for s in nested_list:\n",
    "    if(len(s.split()) <= max_len):\n",
    "        cnt = cnt + 1\n",
    "  print('전체 샘플 중 길이가 %s 이하인 샘플의 비율: %s'%(max_len, (cnt / len(nested_list))))"
   ]
  },
  {
   "cell_type": "code",
   "execution_count": 30,
   "id": "d73f82d8",
   "metadata": {},
   "outputs": [
    {
     "name": "stdout",
     "output_type": "stream",
     "text": [
      "전체 샘플 중 길이가 50 이하인 샘플의 비율: 0.9998576657177715\n",
      "전체 샘플 중 길이가 15 이하인 샘플의 비율: 0.9999694997966653\n"
     ]
    }
   ],
   "source": [
    "below_threshold_len(text_max_len, data['text'])\n",
    "below_threshold_len(headlines_max_len,  data['headlines'])"
   ]
  },
  {
   "cell_type": "code",
   "execution_count": 31,
   "id": "0f5ee007",
   "metadata": {},
   "outputs": [
    {
     "name": "stdout",
     "output_type": "stream",
     "text": [
      "전체 샘플수 : 98343\n"
     ]
    }
   ],
   "source": [
    "data = data[data['text'].apply(lambda x: len(x.split()) <= text_max_len)]\n",
    "data = data[data['headlines'].apply(lambda x: len(x.split()) <= summary_max_len)]\n",
    "print('전체 샘플수 :', (len(data)))"
   ]
  },
  {
   "cell_type": "code",
   "execution_count": 32,
   "id": "d65b35c8",
   "metadata": {},
   "outputs": [
    {
     "data": {
      "text/html": [
       "<div>\n",
       "<style scoped>\n",
       "    .dataframe tbody tr th:only-of-type {\n",
       "        vertical-align: middle;\n",
       "    }\n",
       "\n",
       "    .dataframe tbody tr th {\n",
       "        vertical-align: top;\n",
       "    }\n",
       "\n",
       "    .dataframe thead th {\n",
       "        text-align: right;\n",
       "    }\n",
       "</style>\n",
       "<table border=\"1\" class=\"dataframe\">\n",
       "  <thead>\n",
       "    <tr style=\"text-align: right;\">\n",
       "      <th></th>\n",
       "      <th>headlines</th>\n",
       "      <th>text</th>\n",
       "      <th>decoder_input</th>\n",
       "      <th>decoder_target</th>\n",
       "    </tr>\n",
       "  </thead>\n",
       "  <tbody>\n",
       "    <tr>\n",
       "      <th>0</th>\n",
       "      <td>upgrad learner switches to career in ml al wit...</td>\n",
       "      <td>saurav kant alumnus upgrad iiit pg program mac...</td>\n",
       "      <td>sostoken upgrad learner switches to career in ...</td>\n",
       "      <td>upgrad learner switches to career in ml al wit...</td>\n",
       "    </tr>\n",
       "    <tr>\n",
       "      <th>1</th>\n",
       "      <td>delhi techie wins free food from swiggy for on...</td>\n",
       "      <td>kunal shah credit card bill payment platform c...</td>\n",
       "      <td>sostoken delhi techie wins free food from swig...</td>\n",
       "      <td>delhi techie wins free food from swiggy for on...</td>\n",
       "    </tr>\n",
       "    <tr>\n",
       "      <th>2</th>\n",
       "      <td>new zealand end rohit sharma led india match w...</td>\n",
       "      <td>new zealand defeated india wickets fourth odi ...</td>\n",
       "      <td>sostoken new zealand end rohit sharma led indi...</td>\n",
       "      <td>new zealand end rohit sharma led india match w...</td>\n",
       "    </tr>\n",
       "    <tr>\n",
       "      <th>3</th>\n",
       "      <td>aegon life iterm insurance plan helps customer...</td>\n",
       "      <td>aegon life iterm insurance plan customers enjo...</td>\n",
       "      <td>sostoken aegon life iterm insurance plan helps...</td>\n",
       "      <td>aegon life iterm insurance plan helps customer...</td>\n",
       "    </tr>\n",
       "    <tr>\n",
       "      <th>4</th>\n",
       "      <td>have known hirani for yrs what if metoo claims...</td>\n",
       "      <td>speaking sexual harassment allegations rajkuma...</td>\n",
       "      <td>sostoken have known hirani for yrs what if met...</td>\n",
       "      <td>have known hirani for yrs what if metoo claims...</td>\n",
       "    </tr>\n",
       "  </tbody>\n",
       "</table>\n",
       "</div>"
      ],
      "text/plain": [
       "                                           headlines  \\\n",
       "0  upgrad learner switches to career in ml al wit...   \n",
       "1  delhi techie wins free food from swiggy for on...   \n",
       "2  new zealand end rohit sharma led india match w...   \n",
       "3  aegon life iterm insurance plan helps customer...   \n",
       "4  have known hirani for yrs what if metoo claims...   \n",
       "\n",
       "                                                text  \\\n",
       "0  saurav kant alumnus upgrad iiit pg program mac...   \n",
       "1  kunal shah credit card bill payment platform c...   \n",
       "2  new zealand defeated india wickets fourth odi ...   \n",
       "3  aegon life iterm insurance plan customers enjo...   \n",
       "4  speaking sexual harassment allegations rajkuma...   \n",
       "\n",
       "                                       decoder_input  \\\n",
       "0  sostoken upgrad learner switches to career in ...   \n",
       "1  sostoken delhi techie wins free food from swig...   \n",
       "2  sostoken new zealand end rohit sharma led indi...   \n",
       "3  sostoken aegon life iterm insurance plan helps...   \n",
       "4  sostoken have known hirani for yrs what if met...   \n",
       "\n",
       "                                      decoder_target  \n",
       "0  upgrad learner switches to career in ml al wit...  \n",
       "1  delhi techie wins free food from swiggy for on...  \n",
       "2  new zealand end rohit sharma led india match w...  \n",
       "3  aegon life iterm insurance plan helps customer...  \n",
       "4  have known hirani for yrs what if metoo claims...  "
      ]
     },
     "execution_count": 32,
     "metadata": {},
     "output_type": "execute_result"
    }
   ],
   "source": [
    "# 요약 데이터에는 시작토큰과 종료토큰 추가\n",
    "\n",
    "data['decoder_input'] = data['headlines'].apply(lambda x : 'sostoken '+ x)\n",
    "data['decoder_target'] = data['headlines'].apply(lambda x : x + ' eostoken')\n",
    "data.head()"
   ]
  },
  {
   "cell_type": "code",
   "execution_count": 33,
   "id": "60d788a0",
   "metadata": {},
   "outputs": [],
   "source": [
    "# 인코더의 입력, 디코더의 입력과 레이블을 각각 다시 Numpy 타입으로 저장 \n",
    "\n",
    "encoder_input = np.array(data['text']) # 인코더의 입력\n",
    "decoder_input = np.array(data['decoder_input']) # 디코더의 입력\n",
    "decoder_target = np.array(data['decoder_target']) # 디코더의 레이블"
   ]
  },
  {
   "cell_type": "code",
   "execution_count": 34,
   "id": "27facefb",
   "metadata": {},
   "outputs": [
    {
     "name": "stdout",
     "output_type": "stream",
     "text": [
      "훈련 데이터의 개수 : 78674\n",
      "훈련 레이블의 개수 : 78674\n",
      "테스트 데이터의 개수 : 19669\n",
      "테스트 레이블의 개수 : 19669\n"
     ]
    }
   ],
   "source": [
    "# 훈련데이터와 테스트데이터 분리\n",
    "encoder_input_train, encoder_input_test, decoder_input_train, decoder_input_test, decoder_target_train, decoder_target_test = train_test_split(encoder_input,\n",
    "                                                                                                                                               decoder_input,\n",
    "                                                                                                                                               decoder_target,\n",
    "                                                                                                                                               test_size=0.2,                                   \n",
    "                                                                                                                                               random_state=34)\n",
    "\n",
    "print('훈련 데이터의 개수 :', len(encoder_input_train))\n",
    "print('훈련 레이블의 개수 :', len(decoder_input_train))\n",
    "print('테스트 데이터의 개수 :', len(encoder_input_test))\n",
    "print('테스트 레이블의 개수 :', len(decoder_input_test))"
   ]
  },
  {
   "cell_type": "markdown",
   "id": "54f8c8b0",
   "metadata": {},
   "source": [
    "> 정수 인코딩"
   ]
  },
  {
   "cell_type": "code",
   "execution_count": 35,
   "id": "4de8aefe",
   "metadata": {},
   "outputs": [],
   "source": [
    "# Keras의 토크나이저를 사용하여 입력된 훈련 데이터로부터 단어 집합 생성\n",
    "src_tokenizer = Tokenizer() # 토크나이저 정의\n",
    "src_tokenizer.fit_on_texts(encoder_input_train) # 입력된 데이터로부터 단어 집합 생성"
   ]
  },
  {
   "cell_type": "markdown",
   "id": "f3fb2425",
   "metadata": {},
   "source": [
    "- src_tokenizer.word_counts.items()에는 단어와 각 단어의 등장 빈도수가 저장돼 있는데, 이를 통해서 통계적인 정보를 얻을 수 있음\n",
    "- 등장 빈도수가 7회 미만인 단어들이 이 데이터에서 얼만큼의 비중을 차지하는지 확인"
   ]
  },
  {
   "cell_type": "code",
   "execution_count": 36,
   "id": "616c985b",
   "metadata": {},
   "outputs": [
    {
     "name": "stdout",
     "output_type": "stream",
     "text": [
      "단어 집합(vocabulary)의 크기 : 69608\n",
      "등장 빈도가 6번 이하인 희귀 단어의 수: 47436\n",
      "단어 집합에서 희귀 단어를 제외시킬 경우의 단어 집합의 크기 22172\n",
      "단어 집합에서 희귀 단어의 비율: 68.14733938627744\n",
      "전체 등장 빈도에서 희귀 단어 등장 빈도 비율: 3.492321499583859\n"
     ]
    }
   ],
   "source": [
    "threshold = 7\n",
    "total_cnt = len(src_tokenizer.word_index) # 단어의 수\n",
    "rare_cnt = 0 # 등장 빈도수가 threshold보다 작은 단어의 개수를 카운트\n",
    "total_freq = 0 # 훈련 데이터의 전체 단어 빈도수 총 합\n",
    "rare_freq = 0 # 등장 빈도수가 threshold보다 작은 단어의 등장 빈도수의 총 합\n",
    "\n",
    "# 단어와 빈도수의 쌍(pair)을 key와 value로 받는다.\n",
    "for key, value in src_tokenizer.word_counts.items():\n",
    "    total_freq = total_freq + value\n",
    "\n",
    "    # 단어의 등장 빈도수가 threshold보다 작으면\n",
    "    if(value < threshold):\n",
    "        rare_cnt = rare_cnt + 1\n",
    "        rare_freq = rare_freq + value\n",
    "\n",
    "print('단어 집합(vocabulary)의 크기 :', total_cnt)\n",
    "print('등장 빈도가 %s번 이하인 희귀 단어의 수: %s'%(threshold - 1, rare_cnt))\n",
    "print('단어 집합에서 희귀 단어를 제외시킬 경우의 단어 집합의 크기 %s'%(total_cnt - rare_cnt))\n",
    "print(\"단어 집합에서 희귀 단어의 비율:\", (rare_cnt / total_cnt)*100)\n",
    "print(\"전체 등장 빈도에서 희귀 단어 등장 빈도 비율:\", (rare_freq / total_freq)*100)"
   ]
  },
  {
   "cell_type": "code",
   "execution_count": 37,
   "id": "faec44a1",
   "metadata": {},
   "outputs": [],
   "source": [
    "src_vocab = 22000\n",
    "src_tokenizer = Tokenizer(num_words=src_vocab) # 단어 집합의 크기를 22,000으로 제한\n",
    "src_tokenizer.fit_on_texts(encoder_input_train) # 단어 집합 재생성"
   ]
  },
  {
   "cell_type": "code",
   "execution_count": 38,
   "id": "1570f0dc",
   "metadata": {},
   "outputs": [
    {
     "name": "stdout",
     "output_type": "stream",
     "text": [
      "[450, 1723, 11899, 10252, 192, 7, 540, 514, 1676, 2011, 263, 87, 93, 2702, 329, 141, 3, 13, 287, 1090, 540, 402, 263, 87, 580, 3078, 1629, 11, 8015, 1912, 1227, 1912, 4956, 231, 618, 209, 1629, 263, 87, 329, 141]\n"
     ]
    }
   ],
   "source": [
    "# 텍스트 시퀀스를 정수 시퀀스로 변환\n",
    "encoder_input_train = src_tokenizer.texts_to_sequences(encoder_input_train) \n",
    "encoder_input_test = src_tokenizer.texts_to_sequences(encoder_input_test)\n",
    "\n",
    "# 잘 진행되었는지 샘플 출력\n",
    "print(encoder_input_train[0])"
   ]
  },
  {
   "cell_type": "markdown",
   "id": "dad024c6",
   "metadata": {},
   "source": [
    "> headlines 데이터에 대해서도 동일한 작업 수행"
   ]
  },
  {
   "cell_type": "code",
   "execution_count": 39,
   "id": "c66d5b97",
   "metadata": {},
   "outputs": [],
   "source": [
    "tar_tokenizer = Tokenizer()\n",
    "tar_tokenizer.fit_on_texts(decoder_input_train)"
   ]
  },
  {
   "cell_type": "code",
   "execution_count": 40,
   "id": "936f048c",
   "metadata": {},
   "outputs": [
    {
     "name": "stdout",
     "output_type": "stream",
     "text": [
      "단어 집합(vocabulary)의 크기 : 30126\n",
      "등장 빈도가 6번 이하인 희귀 단어의 수: 20643\n",
      "단어 집합에서 희귀 단어를 제외시킬 경우의 단어 집합의 크기 9483\n",
      "단어 집합에서 희귀 단어의 비율: 68.52220673172674\n",
      "전체 등장 빈도에서 희귀 단어 등장 빈도 비율: 5.3495337205729365\n"
     ]
    }
   ],
   "source": [
    "threshold = 7\n",
    "total_cnt = len(tar_tokenizer.word_index) # 단어의 수\n",
    "rare_cnt = 0 # 등장 빈도수가 threshold보다 작은 단어의 개수를 카운트\n",
    "total_freq = 0 # 훈련 데이터의 전체 단어 빈도수 총 합\n",
    "rare_freq = 0 # 등장 빈도수가 threshold보다 작은 단어의 등장 빈도수의 총 합\n",
    "\n",
    "# 단어와 빈도수의 쌍(pair)을 key와 value로 받는다.\n",
    "for key, value in tar_tokenizer.word_counts.items():\n",
    "    total_freq = total_freq + value\n",
    "\n",
    "    # 단어의 등장 빈도수가 threshold보다 작으면\n",
    "    if(value < threshold):\n",
    "        rare_cnt = rare_cnt + 1\n",
    "        rare_freq = rare_freq + value\n",
    "\n",
    "print('단어 집합(vocabulary)의 크기 :', total_cnt)\n",
    "print('등장 빈도가 %s번 이하인 희귀 단어의 수: %s'%(threshold - 1, rare_cnt))\n",
    "print('단어 집합에서 희귀 단어를 제외시킬 경우의 단어 집합의 크기 %s'%(total_cnt - rare_cnt))\n",
    "print(\"단어 집합에서 희귀 단어의 비율:\", (rare_cnt / total_cnt)*100)\n",
    "print(\"전체 등장 빈도에서 희귀 단어 등장 빈도 비율:\", (rare_freq / total_freq)*100)"
   ]
  },
  {
   "cell_type": "code",
   "execution_count": 41,
   "id": "89bfd4a3",
   "metadata": {},
   "outputs": [
    {
     "name": "stdout",
     "output_type": "stream",
     "text": [
      "input\n",
      "input  [1, 56, 35, 4, 641, 3, 1343, 295, 4, 280, 290]\n",
      "target\n",
      "decoder  [56, 35, 4, 641, 3, 1343, 295, 4, 280, 290, 2]\n"
     ]
    }
   ],
   "source": [
    "tar_vocab = 9000\n",
    "tar_tokenizer = Tokenizer(num_words = tar_vocab) \n",
    "tar_tokenizer.fit_on_texts(decoder_input_train)\n",
    "tar_tokenizer.fit_on_texts(decoder_target_train)\n",
    "\n",
    "# 텍스트 시퀀스를 정수 시퀀스로 변환\n",
    "decoder_input_train = tar_tokenizer.texts_to_sequences(decoder_input_train) \n",
    "decoder_target_train = tar_tokenizer.texts_to_sequences(decoder_target_train)\n",
    "decoder_input_test = tar_tokenizer.texts_to_sequences(decoder_input_test)\n",
    "decoder_target_test = tar_tokenizer.texts_to_sequences(decoder_target_test)\n",
    "\n",
    "#잘 변환되었는지 확인\n",
    "print('input')\n",
    "print('input ',decoder_input_train[0])\n",
    "print('target')\n",
    "print('decoder ',decoder_target_train[0])"
   ]
  },
  {
   "cell_type": "code",
   "execution_count": 42,
   "id": "ad1f59c8",
   "metadata": {},
   "outputs": [
    {
     "name": "stdout",
     "output_type": "stream",
     "text": [
      "삭제할 훈련 데이터의 개수 : 0\n",
      "삭제할 테스트 데이터의 개수 : 1\n",
      "훈련 데이터의 개수 : 78674\n",
      "훈련 레이블의 개수 : 78674\n",
      "테스트 데이터의 개수 : 19668\n",
      "테스트 레이블의 개수 : 19668\n"
     ]
    },
    {
     "name": "stderr",
     "output_type": "stream",
     "text": [
      "/opt/conda/lib/python3.9/site-packages/numpy/lib/function_base.py:4454: VisibleDeprecationWarning: Creating an ndarray from ragged nested sequences (which is a list-or-tuple of lists-or-tuples-or ndarrays with different lengths or shapes) is deprecated. If you meant to do this, you must specify 'dtype=object' when creating the ndarray.\n",
      "  arr = asarray(arr)\n"
     ]
    }
   ],
   "source": [
    "# 훈련 데이터와 테스트 데이터에 대해서 요약문의 길이가 1인 경우의 인덱스를 각각 drop_train과 drop_test에 라는 변수에 저장, 이 샘플들은 모두 삭제\n",
    "drop_train = [index for index, sentence in enumerate(decoder_input_train) if len(sentence) == 1]\n",
    "drop_test = [index for index, sentence in enumerate(decoder_input_test) if len(sentence) == 1]\n",
    "\n",
    "print('삭제할 훈련 데이터의 개수 :', len(drop_train))\n",
    "print('삭제할 테스트 데이터의 개수 :', len(drop_test))\n",
    "\n",
    "encoder_input_train = np.delete(encoder_input_train, drop_train, axis=0)\n",
    "decoder_input_train = np.delete(decoder_input_train, drop_train, axis=0)\n",
    "decoder_target_train = np.delete(decoder_target_train, drop_train, axis=0)\n",
    "\n",
    "encoder_input_test = np.delete(encoder_input_test, drop_test, axis=0)\n",
    "decoder_input_test = np.delete(decoder_input_test, drop_test, axis=0)\n",
    "decoder_target_test = np.delete(decoder_target_test, drop_test, axis=0)\n",
    "\n",
    "print('훈련 데이터의 개수 :', len(encoder_input_train))\n",
    "print('훈련 레이블의 개수 :', len(decoder_input_train))\n",
    "print('테스트 데이터의 개수 :', len(encoder_input_test))\n",
    "print('테스트 레이블의 개수 :', len(decoder_input_test))"
   ]
  },
  {
   "cell_type": "code",
   "execution_count": 43,
   "id": "7b63326c",
   "metadata": {},
   "outputs": [],
   "source": [
    "# 패딩하기\n",
    "encoder_input_train = pad_sequences(encoder_input_train, maxlen=text_max_len, padding='post')\n",
    "encoder_input_test = pad_sequences(encoder_input_test, maxlen=text_max_len, padding='post')\n",
    "decoder_input_train = pad_sequences(decoder_input_train, maxlen=headlines_max_len, padding='post')\n",
    "decoder_target_train = pad_sequences(decoder_target_train, maxlen=headlines_max_len, padding='post')\n",
    "decoder_input_test = pad_sequences(decoder_input_test, maxlen=headlines_max_len, padding='post')\n",
    "decoder_target_test = pad_sequences(decoder_target_test, maxlen=headlines_max_len, padding='post')"
   ]
  },
  {
   "cell_type": "markdown",
   "id": "d5a51e82",
   "metadata": {},
   "source": [
    "### > 모델 설계"
   ]
  },
  {
   "cell_type": "code",
   "execution_count": 45,
   "id": "0d76bda2",
   "metadata": {},
   "outputs": [
    {
     "name": "stdout",
     "output_type": "stream",
     "text": [
      "WARNING:tensorflow:Layer lstm will not use cuDNN kernels since it doesn't meet the criteria. It will use a generic GPU kernel as fallback when running on GPU.\n",
      "WARNING:tensorflow:Layer lstm_1 will not use cuDNN kernels since it doesn't meet the criteria. It will use a generic GPU kernel as fallback when running on GPU.\n",
      "WARNING:tensorflow:Layer lstm_2 will not use cuDNN kernels since it doesn't meet the criteria. It will use a generic GPU kernel as fallback when running on GPU.\n"
     ]
    }
   ],
   "source": [
    "# 우선 함수형 API를 이용해서 인코더를 설계\n",
    "from tensorflow.keras.layers import Input, LSTM, Embedding, Dense, Concatenate\n",
    "from tensorflow.keras.models import Model\n",
    "from tensorflow.keras.callbacks import EarlyStopping, ModelCheckpoint\n",
    "\n",
    "\n",
    "# 인코더 설계 시작\n",
    "embedding_dim = 128\n",
    "hidden_size = 256\n",
    "\n",
    "# 인코더\n",
    "encoder_inputs = Input(shape=(text_max_len,))\n",
    "\n",
    "# 인코더의 임베딩 층\n",
    "enc_emb = Embedding(src_vocab, embedding_dim)(encoder_inputs)\n",
    "\n",
    "# 인코더의 LSTM 1\n",
    "encoder_lstm1 = LSTM(hidden_size, return_sequences=True, return_state=True ,dropout = 0.4, recurrent_dropout = 0.4)\n",
    "encoder_output1, state_h1, state_c1 = encoder_lstm1(enc_emb)\n",
    "\n",
    "# 인코더의 LSTM 2\n",
    "encoder_lstm2 = LSTM(hidden_size, return_sequences=True, return_state=True, dropout=0.4, recurrent_dropout=0.4)\n",
    "encoder_output2, state_h2, state_c2 = encoder_lstm2(encoder_output1)\n",
    "\n",
    "# 인코더의 LSTM 3\n",
    "encoder_lstm3 = LSTM(hidden_size, return_state=True, return_sequences=True, dropout=0.4, recurrent_dropout=0.4)\n",
    "encoder_outputs, state_h, state_c= encoder_lstm3(encoder_output2)"
   ]
  },
  {
   "cell_type": "code",
   "execution_count": 46,
   "id": "a8bd4c5e",
   "metadata": {},
   "outputs": [
    {
     "name": "stdout",
     "output_type": "stream",
     "text": [
      "WARNING:tensorflow:Layer lstm_3 will not use cuDNN kernels since it doesn't meet the criteria. It will use a generic GPU kernel as fallback when running on GPU.\n"
     ]
    }
   ],
   "source": [
    "# 디코더 설계\n",
    "decoder_inputs = Input(shape=(None,))\n",
    "\n",
    "# 디코더의 임베딩 층\n",
    "dec_emb_layer = Embedding(tar_vocab, embedding_dim)\n",
    "dec_emb = dec_emb_layer(decoder_inputs)\n",
    "\n",
    "# 디코더의 LSTM\n",
    "decoder_lstm = LSTM(hidden_size, return_sequences=True, return_state=True, dropout=0.4, recurrent_dropout=0.2)\n",
    "decoder_outputs, _, _ = decoder_lstm(dec_emb, initial_state=[state_h, state_c])"
   ]
  },
  {
   "cell_type": "code",
   "execution_count": 47,
   "id": "87c3aadf",
   "metadata": {},
   "outputs": [
    {
     "name": "stdout",
     "output_type": "stream",
     "text": [
      "Model: \"model\"\n",
      "__________________________________________________________________________________________________\n",
      "Layer (type)                    Output Shape         Param #     Connected to                     \n",
      "==================================================================================================\n",
      "input_1 (InputLayer)            [(None, 50)]         0                                            \n",
      "__________________________________________________________________________________________________\n",
      "embedding (Embedding)           (None, 50, 128)      2816000     input_1[0][0]                    \n",
      "__________________________________________________________________________________________________\n",
      "lstm (LSTM)                     [(None, 50, 256), (N 394240      embedding[0][0]                  \n",
      "__________________________________________________________________________________________________\n",
      "input_2 (InputLayer)            [(None, None)]       0                                            \n",
      "__________________________________________________________________________________________________\n",
      "lstm_1 (LSTM)                   [(None, 50, 256), (N 525312      lstm[0][0]                       \n",
      "__________________________________________________________________________________________________\n",
      "embedding_1 (Embedding)         (None, None, 128)    1152000     input_2[0][0]                    \n",
      "__________________________________________________________________________________________________\n",
      "lstm_2 (LSTM)                   [(None, 50, 256), (N 525312      lstm_1[0][0]                     \n",
      "__________________________________________________________________________________________________\n",
      "lstm_3 (LSTM)                   [(None, None, 256),  394240      embedding_1[0][0]                \n",
      "                                                                 lstm_2[0][1]                     \n",
      "                                                                 lstm_2[0][2]                     \n",
      "__________________________________________________________________________________________________\n",
      "dense (Dense)                   (None, None, 9000)   2313000     lstm_3[0][0]                     \n",
      "==================================================================================================\n",
      "Total params: 8,120,104\n",
      "Trainable params: 8,120,104\n",
      "Non-trainable params: 0\n",
      "__________________________________________________________________________________________________\n"
     ]
    }
   ],
   "source": [
    "# 디코더의 출력층 설계\n",
    "decoder_softmax_layer = Dense(tar_vocab, activation='softmax')\n",
    "decoder_softmax_outputs = decoder_softmax_layer(decoder_outputs) \n",
    "\n",
    "# 모델 정의\n",
    "model = Model([encoder_inputs, decoder_inputs], decoder_softmax_outputs)\n",
    "model.summary()"
   ]
  },
  {
   "cell_type": "code",
   "execution_count": 48,
   "id": "d16029e4",
   "metadata": {},
   "outputs": [
    {
     "name": "stdout",
     "output_type": "stream",
     "text": [
      "Model: \"model_1\"\n",
      "__________________________________________________________________________________________________\n",
      "Layer (type)                    Output Shape         Param #     Connected to                     \n",
      "==================================================================================================\n",
      "input_1 (InputLayer)            [(None, 50)]         0                                            \n",
      "__________________________________________________________________________________________________\n",
      "embedding (Embedding)           (None, 50, 128)      2816000     input_1[0][0]                    \n",
      "__________________________________________________________________________________________________\n",
      "lstm (LSTM)                     [(None, 50, 256), (N 394240      embedding[0][0]                  \n",
      "__________________________________________________________________________________________________\n",
      "input_2 (InputLayer)            [(None, None)]       0                                            \n",
      "__________________________________________________________________________________________________\n",
      "lstm_1 (LSTM)                   [(None, 50, 256), (N 525312      lstm[0][0]                       \n",
      "__________________________________________________________________________________________________\n",
      "embedding_1 (Embedding)         (None, None, 128)    1152000     input_2[0][0]                    \n",
      "__________________________________________________________________________________________________\n",
      "lstm_2 (LSTM)                   [(None, 50, 256), (N 525312      lstm_1[0][0]                     \n",
      "__________________________________________________________________________________________________\n",
      "lstm_3 (LSTM)                   [(None, None, 256),  394240      embedding_1[0][0]                \n",
      "                                                                 lstm_2[0][1]                     \n",
      "                                                                 lstm_2[0][2]                     \n",
      "__________________________________________________________________________________________________\n",
      "attention_layer (AdditiveAttent (None, None, 256)    256         lstm_3[0][0]                     \n",
      "                                                                 lstm_2[0][0]                     \n",
      "__________________________________________________________________________________________________\n",
      "concat_layer (Concatenate)      (None, None, 512)    0           lstm_3[0][0]                     \n",
      "                                                                 attention_layer[0][0]            \n",
      "__________________________________________________________________________________________________\n",
      "dense_1 (Dense)                 (None, None, 9000)   4617000     concat_layer[0][0]               \n",
      "==================================================================================================\n",
      "Total params: 10,424,360\n",
      "Trainable params: 10,424,360\n",
      "Non-trainable params: 0\n",
      "__________________________________________________________________________________________________\n"
     ]
    }
   ],
   "source": [
    "# 어텐션 메커니즘\n",
    "\n",
    "from tensorflow.keras.layers import AdditiveAttention\n",
    "\n",
    "# 어텐션 층(어텐션 함수)\n",
    "attn_layer = AdditiveAttention(name='attention_layer')\n",
    "\n",
    "# 인코더와 디코더의 모든 time step의 hidden state를 어텐션 층에 전달하고 결과를 리턴\n",
    "attn_out = attn_layer([decoder_outputs, encoder_outputs])\n",
    "\n",
    "\n",
    "# 어텐션의 결과와 디코더의 hidden state들을 연결\n",
    "decoder_concat_input = Concatenate(axis=-1, name='concat_layer')([decoder_outputs, attn_out])\n",
    "\n",
    "# 디코더의 출력층\n",
    "decoder_softmax_layer = Dense(tar_vocab, activation='softmax')\n",
    "decoder_softmax_outputs = decoder_softmax_layer(decoder_concat_input)\n",
    "\n",
    "# 모델 정의\n",
    "model = Model([encoder_inputs, decoder_inputs], decoder_softmax_outputs)\n",
    "model.summary()"
   ]
  },
  {
   "cell_type": "markdown",
   "id": "02f546cd",
   "metadata": {},
   "source": [
    "### > 모델훈련"
   ]
  },
  {
   "cell_type": "code",
   "execution_count": 49,
   "id": "65be895a",
   "metadata": {},
   "outputs": [
    {
     "name": "stdout",
     "output_type": "stream",
     "text": [
      "Epoch 1/50\n",
      "308/308 [==============================] - 227s 711ms/step - loss: 4.4769 - val_loss: 4.1103\n",
      "Epoch 2/50\n",
      "308/308 [==============================] - 218s 707ms/step - loss: 3.9905 - val_loss: 3.8158\n",
      "Epoch 3/50\n",
      "308/308 [==============================] - 218s 709ms/step - loss: 3.7080 - val_loss: 3.6050\n",
      "Epoch 4/50\n",
      "308/308 [==============================] - 218s 708ms/step - loss: 3.4978 - val_loss: 3.4477\n",
      "Epoch 5/50\n",
      "308/308 [==============================] - 217s 705ms/step - loss: 3.3371 - val_loss: 3.3362\n",
      "Epoch 6/50\n",
      "308/308 [==============================] - 216s 702ms/step - loss: 3.2054 - val_loss: 3.2389\n",
      "Epoch 7/50\n",
      "308/308 [==============================] - 216s 703ms/step - loss: 3.0930 - val_loss: 3.1705\n",
      "Epoch 8/50\n",
      "308/308 [==============================] - 216s 703ms/step - loss: 2.9943 - val_loss: 3.1189\n",
      "Epoch 9/50\n",
      "308/308 [==============================] - 222s 719ms/step - loss: 2.9089 - val_loss: 3.0699\n",
      "Epoch 10/50\n",
      "308/308 [==============================] - 222s 720ms/step - loss: 2.8331 - val_loss: 3.0320\n",
      "Epoch 11/50\n",
      "308/308 [==============================] - 220s 715ms/step - loss: 2.7648 - val_loss: 2.9950\n",
      "Epoch 12/50\n",
      "308/308 [==============================] - 220s 714ms/step - loss: 2.7011 - val_loss: 2.9703\n",
      "Epoch 13/50\n",
      "308/308 [==============================] - 220s 715ms/step - loss: 2.6431 - val_loss: 2.9478\n",
      "Epoch 14/50\n",
      "308/308 [==============================] - 220s 715ms/step - loss: 2.5925 - val_loss: 2.9279\n",
      "Epoch 15/50\n",
      "308/308 [==============================] - 220s 715ms/step - loss: 2.5445 - val_loss: 2.9139\n",
      "Epoch 16/50\n",
      "308/308 [==============================] - 220s 715ms/step - loss: 2.5003 - val_loss: 2.8976\n",
      "Epoch 17/50\n",
      "308/308 [==============================] - 220s 713ms/step - loss: 2.4582 - val_loss: 2.8799\n",
      "Epoch 18/50\n",
      "308/308 [==============================] - 220s 715ms/step - loss: 2.4187 - val_loss: 2.8721\n",
      "Epoch 19/50\n",
      "308/308 [==============================] - 221s 716ms/step - loss: 2.3855 - val_loss: 2.8641\n",
      "Epoch 20/50\n",
      "308/308 [==============================] - 221s 717ms/step - loss: 2.3515 - val_loss: 2.8589\n",
      "Epoch 21/50\n",
      "308/308 [==============================] - 220s 715ms/step - loss: 2.3181 - val_loss: 2.8510\n",
      "Epoch 22/50\n",
      "308/308 [==============================] - 220s 713ms/step - loss: 2.2866 - val_loss: 2.8393\n",
      "Epoch 23/50\n",
      "308/308 [==============================] - 221s 718ms/step - loss: 2.2583 - val_loss: 2.8395\n",
      "Epoch 24/50\n",
      "308/308 [==============================] - 219s 713ms/step - loss: 2.2321 - val_loss: 2.8367\n",
      "Epoch 25/50\n",
      "308/308 [==============================] - 220s 714ms/step - loss: 2.2065 - val_loss: 2.8350\n",
      "Epoch 26/50\n",
      "308/308 [==============================] - 220s 713ms/step - loss: 2.1811 - val_loss: 2.8336\n",
      "Epoch 27/50\n",
      "308/308 [==============================] - 219s 712ms/step - loss: 2.1554 - val_loss: 2.8314\n",
      "Epoch 28/50\n",
      "308/308 [==============================] - 218s 707ms/step - loss: 2.1331 - val_loss: 2.8311\n",
      "Epoch 29/50\n",
      "308/308 [==============================] - 216s 701ms/step - loss: 2.1103 - val_loss: 2.8235\n",
      "Epoch 30/50\n",
      "308/308 [==============================] - 217s 705ms/step - loss: 2.0886 - val_loss: 2.8313\n",
      "Epoch 31/50\n",
      "308/308 [==============================] - 217s 706ms/step - loss: 2.0677 - val_loss: 2.8313\n",
      "Epoch 00031: early stopping\n"
     ]
    }
   ],
   "source": [
    "model.compile(optimizer='rmsprop', loss='sparse_categorical_crossentropy')\n",
    "es = EarlyStopping(monitor='val_loss', patience=2, verbose=1)\n",
    "history = model.fit(x=[encoder_input_train, decoder_input_train], y=decoder_target_train, \\\n",
    "          validation_data=([encoder_input_test, decoder_input_test], decoder_target_test), \\\n",
    "          batch_size=256, callbacks=[es], epochs=50)"
   ]
  },
  {
   "cell_type": "code",
   "execution_count": 50,
   "id": "dd8abb08",
   "metadata": {},
   "outputs": [
    {
     "data": {
      "image/png": "[encoded data removed]",
      "text/plain": [
       "<Figure size 432x288 with 1 Axes>"
      ]
     },
     "metadata": {
      "needs_background": "light"
     },
     "output_type": "display_data"
    }
   ],
   "source": [
    "# 훈련데이터의 손실과 검증데이터의 손실이 줄어드는 과정을 시각화\n",
    "plt.plot(history.history['loss'], label='train')\n",
    "plt.plot(history.history['val_loss'], label='test')\n",
    "plt.legend()\n",
    "plt.show()"
   ]
  },
  {
   "cell_type": "markdown",
   "id": "1a114479",
   "metadata": {},
   "source": [
    "### > 인퍼런스 모델 구현"
   ]
  },
  {
   "cell_type": "code",
   "execution_count": 51,
   "id": "11e835ba",
   "metadata": {},
   "outputs": [],
   "source": [
    "src_index_to_word = src_tokenizer.index_word # 원문 단어 집합에서 정수 -> 단어를 얻음\n",
    "tar_word_to_index = tar_tokenizer.word_index # 요약 단어 집합에서 단어 -> 정수를 얻음\n",
    "tar_index_to_word = tar_tokenizer.index_word # 요약 단어 집합에서 정수 -> 단어를 얻음"
   ]
  },
  {
   "cell_type": "code",
   "execution_count": 53,
   "id": "12e1da82",
   "metadata": {},
   "outputs": [],
   "source": [
    "# 인코더 설계\n",
    "encoder_model = Model(inputs=encoder_inputs, outputs=[encoder_outputs, state_h, state_c])\n",
    "\n",
    "# 이전 시점의 상태들을 저장하는 텐서\n",
    "decoder_state_input_h = Input(shape=(hidden_size,))\n",
    "decoder_state_input_c = Input(shape=(hidden_size,))\n",
    "\n",
    "dec_emb2 = dec_emb_layer(decoder_inputs)\n",
    "\n",
    "# 문장의 다음 단어를 예측하기 위해서 초기 상태(initial_state)를 이전 시점의 상태로 사용. 이는 뒤의 함수 decode_sequence()에 구현\n",
    "# 훈련 과정에서와 달리 LSTM의 리턴하는 은닉 상태와 셀 상태인 state_h와 state_c를 버리지 않음.\n",
    "decoder_outputs2, state_h2, state_c2 = decoder_lstm(dec_emb2, initial_state=[decoder_state_input_h, decoder_state_input_c])"
   ]
  },
  {
   "cell_type": "code",
   "execution_count": 56,
   "id": "84924c4f",
   "metadata": {},
   "outputs": [
    {
     "name": "stdout",
     "output_type": "stream",
     "text": [
      "=3\n"
     ]
    }
   ],
   "source": [
    "# 어텐션 함수\n",
    "decoder_hidden_state_input = Input(shape=(text_max_len, hidden_size))\n",
    "attn_out_inf = attn_layer([decoder_outputs2, decoder_hidden_state_input])\n",
    "decoder_inf_concat = Concatenate(axis=-1, name='concat')([decoder_outputs2, attn_out_inf])\n",
    "\n",
    "# 디코더의 출력층\n",
    "decoder_outputs2 = decoder_softmax_layer(decoder_inf_concat) \n",
    "\n",
    "# 최종 디코더 모델\n",
    "decoder_model = Model(\n",
    "    [decoder_inputs] + [decoder_hidden_state_input,decoder_state_input_h, decoder_state_input_c],\n",
    "    [decoder_outputs2] + [state_h2, state_c2])\n",
    "\n",
    "print('=3')"
   ]
  },
  {
   "cell_type": "code",
   "execution_count": 57,
   "id": "b8a5e49d",
   "metadata": {},
   "outputs": [],
   "source": [
    "def decode_sequence(input_seq):\n",
    "    # 입력으로부터 인코더의 상태를 얻음\n",
    "    e_out, e_h, e_c = encoder_model.predict(input_seq)\n",
    "\n",
    "     # <SOS>에 해당하는 토큰 생성\n",
    "    target_seq = np.zeros((1,1))\n",
    "    target_seq[0, 0] = tar_word_to_index['sostoken']\n",
    "\n",
    "    stop_condition = False\n",
    "    decoded_sentence = ''\n",
    "    while not stop_condition: # stop_condition이 True가 될 때까지 루프 반복\n",
    "\n",
    "        output_tokens, h, c = decoder_model.predict([target_seq] + [e_out, e_h, e_c])\n",
    "        sampled_token_index = np.argmax(output_tokens[0, -1, :])\n",
    "        sampled_token = tar_index_to_word[sampled_token_index]\n",
    "\n",
    "        if (sampled_token!='eostoken'):\n",
    "            decoded_sentence += ' '+sampled_token\n",
    "\n",
    "        #  <eos>에 도달하거나 최대 길이를 넘으면 중단.\n",
    "        if (sampled_token == 'eostoken'  or len(decoded_sentence.split()) >= (headlines_max_len-1)):\n",
    "            stop_condition = True\n",
    "\n",
    "        # 길이가 1인 타겟 시퀀스를 업데이트\n",
    "        target_seq = np.zeros((1,1))\n",
    "        target_seq[0, 0] = sampled_token_index\n",
    "\n",
    "        # 상태를 업데이트 합니다.\n",
    "        e_h, e_c = h, c\n",
    "\n",
    "    return decoded_sentence"
   ]
  },
  {
   "cell_type": "markdown",
   "id": "12e21f41",
   "metadata": {},
   "source": [
    "### > 모델 테스트"
   ]
  },
  {
   "cell_type": "code",
   "execution_count": 58,
   "id": "23a48f2d",
   "metadata": {},
   "outputs": [],
   "source": [
    "# 원문의 정수 시퀀스를 텍스트 시퀀스로 변환\n",
    "def seq2text(input_seq):\n",
    "    temp=''\n",
    "    for i in input_seq:\n",
    "        if (i!=0):\n",
    "            temp = temp + src_index_to_word[i]+' '\n",
    "    return temp\n",
    "\n",
    "# 요약문의 정수 시퀀스를 텍스트 시퀀스로 변환\n",
    "def seq2summary(input_seq):\n",
    "    temp=''\n",
    "    for i in input_seq:\n",
    "        if ((i!=0 and i!=tar_word_to_index['sostoken']) and i!=tar_word_to_index['eostoken']):\n",
    "            temp = temp + tar_index_to_word[i] + ' '\n",
    "    return temp"
   ]
  },
  {
   "cell_type": "code",
   "execution_count": 59,
   "id": "f814edbc",
   "metadata": {},
   "outputs": [
    {
     "name": "stdout",
     "output_type": "stream",
     "text": [
      "원문 : applications public outdoor events mumbai cleared within hours brihanmumbai municipal corporation thursday introduced single window clearance system processing event permissions earlier applicant would visit four different departments clearances one approach respective ward file application online \n",
      "실제 요약 : public events in mumbai to get permit within hrs \n",
      "예측 요약 :  mumbai civic body to allow doctors to check alcohol from\n",
      "\n",
      "\n",
      "원문 : passengers new york subway train gave student graduation ceremony missed high school graduation due nearly three hour train delay passenger presented student marco diploma cell phone another played green day graduation song time life hugged several passengers ceremony \n",
      "실제 요약 : commuters hold for student after hr train delay \n",
      "예측 요약 :  passenger who saved from train to be beaten up by\n",
      "\n",
      "\n",
      "원문 : uber cab driver arrested chandigarh allegedly harassing woman passenger posing friend sending obscene messages got number earlier booked cab realising friend woman asked meet following thrashed family handed police \n",
      "실제 요약 : uber driver arrested for sending obscene messages to woman \n",
      "예측 요약 :  uber driver rapes woman in uber driver arrested\n",
      "\n",
      "\n",
      "원문 : fashion retailer forever fast food chain bell collaborating fashion collection first eatery collection feature tops cropped jackets iconic graphics inspired brands collection launch october us online \n",
      "실제 요약 : forever bell collaborate on fashion collection \n",
      "예측 요약 :  myntra launches its first fashion brand\n",
      "\n",
      "\n",
      "원문 : killers senior journalist gauri lankesh identified member special investigation team gathering evidence prove guilt karnataka home minister ramalinga reddy said monday lankesh known write communal violence hindu extremism shot dead outside home bengaluru nagar september \n",
      "실제 요약 : slain journalist gauri killers identified minister \n",
      "예측 요약 :  journo lankesh murder accused of murder in maharashtra\n",
      "\n",
      "\n",
      "원문 : nawazuddin siddiqui tweet wrote thank making realise cannot paired along fair handsome dark good looking never focus earlier siddiqui starrer babumoshai bandookbaaz casting director said could cast fair handsome people siddiqui would look weird \n",
      "실제 요약 : cannot be with the fair as am dark nawaz on casting \n",
      "예측 요약 :  people think am not an actor to be removed from film siddiqui\n",
      "\n",
      "\n",
      "원문 : national green tribunal slapped fines lakh three industrial units uttar pradesh discharging untreated ganga river extracting ground water without permission also issued notice pollution control board show cause action taken erring officials granted consent industries \n",
      "실제 요약 : ngt fines industries in uttar pradesh for ganga \n",
      "예측 요약 :  ngt orders govt to build water for river water\n",
      "\n",
      "\n",
      "원문 : bjp spokesperson sambit patra today accused congress president rahul gandhi justifying terrorism india event germany saying need explanations gandhi cited example isis statement development following patra said gandhi claimed minorities india would sell soul isis jobs unavailable \n",
      "실제 요약 : rahul india with isis reference in germany bjp \n",
      "예측 요약 :  rahul gandhi is an of india bjp mp\n",
      "\n",
      "\n",
      "원문 : us based major cognizant looking lay employees india increase hiring home country according reports comes president donald trump administration expressed displeasure us firms outsourcing jobs countries meanwhile also reported cognizant may let go senior employees voluntary retirement scheme \n",
      "실제 요약 : cognizant to lay off employees in india report \n",
      "예측 요약 :  us to cut its own employees in india\n",
      "\n",
      "\n",
      "원문 : occasion former captain ms dhoni th birthday virender sehwag tweeted man given indian fans moments joy may helicopter continue fly land hearts yuvraj singh posted many happy returns day mr helicopter msdhoni great day buddy cake awaits \n",
      "실제 요약 : may the helicopter continue to fly sehwag wishes dhoni \n",
      "예측 요약 :  sehwag shares video of indian army team in helicopter crash\n",
      "\n",
      "\n",
      "원문 : us based lab houses animal including lab founder dick removed eye believes lab home world largest collection specimens mostly cats dogs horses exotic species like said lab receives specimens per day disease diagnosis \n",
      "실제 요약 : largest collection of also has lab founder eye \n",
      "예측 요약 :  us city creates world largest fish\n",
      "\n",
      "\n",
      "원문 : pakistani actress mahira khan said bollywood never really aim focus always working pakistan added think tell story better story country talking call ban pakistani artistes india said time sad angry \n",
      "실제 요약 : wood was never really my aim focus was always pak mahira \n",
      "예측 요약 :  india is not good boney kapoor on india boney kapoor\n",
      "\n",
      "\n",
      "원문 : iran executed two men convicted economic crimes wednesday including one allegedly caught two tons gold coins dubbed sultan coins sultan coins trader accused manipulating currency market second man part network convicted spreading corruption earth \n",
      "실제 요약 : iran two men including sultan of coins \n",
      "예측 요약 :  afghan man gets death sentence for stealing\n",
      "\n",
      "\n",
      "원문 : users commerce startup snapdeal app given one star reviews google play store confusing snapchat comes ex snapchat employee lawsuit accused company ceo calling india poor country one review read ceo respect towards country even respect towards mr ceo \n",
      "실제 요약 : indians give snapdeal star on it with snapchat \n",
      "예측 요약 :  paytm founder backs startup over million\n",
      "\n",
      "\n",
      "원문 : global carbon emissions touch record high billion tonnes analysis global carbon project revealed world carbon emissions roughly flat rise year increase attributed estimated rise china emissions meanwhile us emissions decline \n",
      "실제 요약 : world carbon emissions to touch record levels in \n",
      "예측 요약 :  world number of world biggest traffic by\n",
      "\n",
      "\n",
      "원문 : former indian cricketer sachin tendulkar whose son arjun broke india team thursday never played age group cricket india year old made test debut age still holds record india youngest test odi debutant aged sachin scored record breaking run partnership vinod kambli school cricket \n",
      "실제 요약 : sachin tendulkar never played age group cricket for india \n",
      "예측 요약 :  sachin tendulkar meets india first class boy\n",
      "\n",
      "\n",
      "원문 : bits pilani association upgrad offering pg program big data engineering first kind program india helped learners transition companies like spark nz microsoft average salary hike career support industry mentorship mock interview preparation instrumental helping learners make career transition \n",
      "실제 요약 : transition to big data with pg program \n",
      "예측 요약 :  upgrad program program helps you transition to data program\n",
      "\n",
      "\n",
      "원문 : japan given initial approval restart two reactors world biggest nuclear power plant shut post magnitude earthquake reactors would operated tokyo electric power company also operates tsunami hit defunct fukushima plant move would mark return nuclear power generation six years \n",
      "실제 요약 : world largest nuclear plant gets approval to \n",
      "예측 요약 :  world largest nuclear plant in japan\n",
      "\n",
      "\n",
      "원문 : addressing indian workers dubai friday congress president rahul gandhi said listen workers tell mann ki baat rahul apparently said reference pm narendra modi radio broadcast mann ki baat stand made indians every religion state caste proud rahul added \n",
      "실제 요약 : here to listen not speak my mann ki baat rahul in dubai \n",
      "예측 요약 :  pm modi is not in the country rahul gandhi\n",
      "\n",
      "\n",
      "원문 : china developing advanced compact size radar navy maintain constant surveillance area size india according media report ship based horizon radar system increase navy information gathering capabilities critical areas including south china sea indian ocean pacific ocean researcher said \n",
      "실제 요약 : china new naval radar can monitor area the size of india report \n",
      "예측 요약 :  china launches its first ever military carrier\n",
      "\n",
      "\n",
      "원문 : twin engine aircraft crashed parking lot mall california sunday killing five people board plane plane flying nearby airport pilot declared emergency plane went crashed car parked parking one ground injured \n",
      "실제 요약 : plane crashes in mall parking lot in california killed \n",
      "예측 요약 :  plane carrying plane crashes into fire in japan\n",
      "\n",
      "\n",
      "원문 : passive euthanasia withdrawal medical treatment intention death terminally ill patients like switching life support machines feeding tube living written document wherein patients give instructions advance treatment administered terminally ill unable express consent \n",
      "실제 요약 : what is euthanasia and living will \n"
     ]
    },
    {
     "name": "stdout",
     "output_type": "stream",
     "text": [
      "예측 요약 :  ganga to get clean chit for faulty ganga\n",
      "\n",
      "\n",
      "원문 : department warned people indulging cash transactions lakh saying receiver pay equal amount penalty also advised people knowledge dealings tip department via email restriction applicable receipt government banking company post office savings bank co operative bank \n",
      "실제 요약 : penalty for receiving cash over lakh warns dept \n",
      "예측 요약 :  lakh people money to pay lakh money to lakh people\n",
      "\n",
      "\n",
      "원문 : residents south delhi soon allotted two fixed parking spots per house issued permit stickers part project decongest delhi houses two cars park extra vehicles paid parking spots make arrangement vehicles towed parked designated spaces \n",
      "실제 요약 : fixed parking per home to be in delhi \n",
      "예측 요약 :  delhi parking to be built in parking parking\n",
      "\n",
      "\n",
      "원문 : sharma formerly known bobby darling recently registered fir husband sharma grounds domestic violence unnatural sex said threatened get killed would kill prove natural death added bobby also sent mails prime minister narendra modi asking intervene matter \n",
      "실제 요약 : my husband has threatened to get me killed bobby \n",
      "예측 요약 :  was raped by husband in violence murder case police\n",
      "\n",
      "\n",
      "원문 : farah khan launching former miss world manushi chhillar bollywood per reports farah already started working upcoming project also met manushi discuss film reports suggested earlier reports manushi receiving offers various filmmakers salman khan willing launch film \n",
      "실제 요약 : farah khan to launch manushi chhillar in bollywood reports \n",
      "예측 요약 :  miss world manushi chhillar\n",
      "\n",
      "\n",
      "원문 : actress nargis fakhri star opposite sanjay dutt upcoming film based afghan children trained suicide bombers nargis play afghan woman runs ngo sanjay play soldier film song penned sanjay jail also feature \n",
      "실제 요약 : nargis to star with sanjay in film on child suicide bombers \n",
      "예측 요약 :  actress shares video of film with her mother in film\n",
      "\n",
      "\n",
      "원문 : scientists found rock fragments containing organic matter originating km mariana trench deepest point earth scientists said fragments brought sea floor massive mud volcanoes near mariana trench evidence confirmed would triple previously estimated depth limit life within earth mantle scientists added \n",
      "실제 요약 : signs of life found km below the point on earth \n",
      "예측 요약 :  scientists discover new solar system to be known\n",
      "\n",
      "\n",
      "원문 : japanese investor softbank group reported valuation loss billion two flagship investments india ola snapdeal according annual report year ended march company recognised loss valuation snapdeal billion since august softbank invested nearly million snapdeal \n",
      "실제 요약 : softbank posts cr loss on snapdeal ola investment \n",
      "예측 요약 :  softbank posts billion valuation in billion valuation\n",
      "\n",
      "\n",
      "원문 : delhi high court observed mahatma gandhi assassination case records part india cultural heritage asked government intended collect maintain entire case information court said hearing plea home affairs ministry challenging order provide police investigation original records rti applicant \n",
      "실제 요약 : gandhi assassination records part of indian heritage hc \n",
      "예측 요약 :  india has no place for india hc on kathua rape case\n",
      "\n",
      "\n",
      "원문 : oscar trophies plated gold nasa billion james space telescope according space agency nasa working us based technology claims gold would never flake company also began gold oscar winners complained gold coating wearing \n",
      "실제 요약 : oscar trophies and nasa telescope are with same gold \n",
      "예측 요약 :  artist pays tribute to spacex sachin space for mn\n",
      "\n",
      "\n",
      "원문 : seats iit bombay filled second round seat allotment iits across country conducted friday seats left iit bound confirmed round two professor said iit gandhinagar iit tirupati iits zero vacancies round \n",
      "실제 요약 : no seats vacant after nd round of at iit bombay \n",
      "예측 요약 :  iit jee advanced results to be held in iit\n",
      "\n",
      "\n",
      "원문 : addressing lok sabha mos home hansraj ahir said tourism ministry asked states union territories identify accident prone selfie zones take measures ensure safety tourists ahir advised states erect signboards deploy volunteers police undertake awareness campaigns warn tourists hazards taking selfies zones \n",
      "실제 요약 : centre asks states to identify accident selfie zones \n",
      "예측 요약 :  govt asks states to stop northeast tourists\n",
      "\n",
      "\n",
      "원문 : al heiress fran bettencourt richest newcomer forbes billionaires list fortune billion became wealthiest woman europe mother bettencourt died age september second richest newcomer germany alexander otto ceo commercial real estate firm group billion wealth \n",
      "실제 요약 : or al richest in forbes list at bn \n",
      "예측 요약 :  richest woman richest woman dies in forbes\n",
      "\n",
      "\n",
      "원문 : indian rounder ravindra jadeja took twitter slam fan mistakenly referred former indian cricketer ajay jadeja congratulating someone came said well ball ajay bowled last match played years international cricket country still remember name stupidity year old wrote \n",
      "실제 요약 : ravindra jadeja slams fan for mistaking him for ajay jadeja \n",
      "예측 요약 :  jadeja calls for fan of his father he was dropped on his father\n",
      "\n",
      "\n",
      "원문 : enforcement directorate filed first chargesheet nirav modi associates billion pnb fraud page chargesheet focuses money laundering aspect role nirav others fraud chargesheet also details made ed nirav last months registered fir case \n",
      "실제 요약 : ed files first chargesheet against nirav modi in pnb fraud \n",
      "예측 요약 :  ed files ed to ed in nirav modi case\n",
      "\n",
      "\n",
      "원문 : sachin tendulkar backed fashion startup universal raised nearly crore accel growth fund along ventures capital startup raised crore accel last year valuation around crore launched reddy operates fashion brands including \n",
      "실제 요약 : tendulkar backed startup raises cr \n",
      "예측 요약 :  virat kohli raises crore from daughter\n",
      "\n",
      "\n",
      "원문 : government said track meet official march target every home added december deadline promoted publicly power ministry internal target december lakh households left electrified four states assam rajasthan meghalaya chhattisgarh \n",
      "실제 요약 : dec internal mar official target for govt \n",
      "예측 요약 :  govt to increase in state of all time in years\n",
      "\n",
      "\n",
      "원문 : according reports salman khan feature double role judwaa starring varun dhawan salman twins raja prem characters portrayed judwaa gap years said source salman judwaa come face face varun double role possibly climax scene added source \n",
      "실제 요약 : salman to feature in double role in varun judwaa report \n",
      "예측 요약 :  salman varun to star in judwaa reports\n",
      "\n",
      "\n",
      "원문 : nearly kg spilled onto highway us state texas thursday truck carrying crashed caught fire incident caused highway shut directions nearly three hours injuries resulting crash reported far \n",
      "실제 요약 : kg of onto us highway \n",
      "예측 요약 :  truck carrying us highway after being caught\n",
      "\n",
      "\n",
      "원문 : donetsk manager paulo dressed fictional character post match press conference team advanced champions league knockouts defeating manchester city wednesday said promised iconic masked vigilante outfit team qualified knockouts career added \n",
      "실제 요약 : coach attends as after team in cl \n",
      "예측 요약 :  football club raises off over\n",
      "\n",
      "\n",
      "원문 : hailing country achievements republican leadership us president donald trump tweeted people kiss wealth goodbye democrats come power trump remarks came urging people voting democratic party upcoming congressional elections trump made several claims economic gains us since assumed office \n",
      "실제 요약 : kiss your wealth goodbye trump on voting for \n",
      "예측 요약 :  trump calls for us assembly polls\n",
      "\n",
      "\n",
      "원문 : security search operations carried punjab pathankot district terrorists movement reported area inputs since past three four days suspicious movement spotted reacted accordingly till nothing substantial found inspector general border zone parmar said \n",
      "실제 요약 : on alert after suspected terrorists movement \n",
      "예측 요약 :  over terrorists killed in punjab\n",
      "\n",
      "\n",
      "원문 : markets regulator sebi directed stock exchanges take action suspected shell companies stop trading month companies saw high investments fund flows non listed shell companies saw total public float crore large companies identified include prakash industries developers among others \n",
      "실제 요약 : sebi stops trading in suspected shell companies \n",
      "예측 요약 :  sebi asks firms to not allow sebi to refund\n",
      "\n",
      "\n",
      "원문 : claiming general elections choice stable government versus combination finance minister arun jaitley said societies never commit suicide clear happen jaitley speaking hindustan times leadership summit described mahagathbandhan political parties tried tested failed idea \n",
      "실제 요약 : do not commit suicide jaitley on polls \n"
     ]
    },
    {
     "name": "stdout",
     "output_type": "stream",
     "text": [
      "예측 요약 :  we have no one of the finance minister on jaitley\n",
      "\n",
      "\n",
      "원문 : day assuming office pakistan prime minister imran khan arrived work sunday post morning workout wearing pictures shared khan official facebook page caption holiday country run seen carrying notebook group men \n",
      "실제 요약 : pakistan pm reaches office on sunday post morning workout \n",
      "예측 요약 :  pak pm imran khan trolled for sharing pics with pak pm imran khan\n",
      "\n",
      "\n",
      "원문 : former australian pacer mitchell johnson stated tweet suspensions three players involved ball tampering scandal steve smith david warner cameron bancroft stay contest bans pacer response tweet stated bans smith warner could reduced \n",
      "실제 요약 : bans on smith warner bancroft should stay ex aus pacer \n",
      "예측 요약 :  david warner calls for australian cricket team\n",
      "\n",
      "\n",
      "원문 : several fans demanded indian citizenship rashid khan year old afghanistan srh spinner said proud afghan stay country saturday afghanistan president ashraf ghani tweeted indian prime minister narendra modi jokingly saying giving away rashid highest wicket taker ipl among spinners \n",
      "실제 요약 : am proud afghan and will stay in my country rashid khan \n",
      "예측 요약 :  us players have been terrorist in tribute to us\n",
      "\n",
      "\n",
      "원문 : many women arrested sudan capital public wearing trousers party according reports trousers short skirts considered obscene outfits sudan law wear clothes thousands sudanese women wearing indecent clothing year according amnesty international \n",
      "실제 요약 : women arrested for wearing in sudan \n",
      "예측 요약 :  arrested for dancing at delhi airport\n",
      "\n",
      "\n",
      "원문 : country largest fuel retailer indian oil corporation increased prices aviation turbine fuel th straight month adding costs airlines state owned company raised prices previous month biggest hike months jet fuel cost per average across india \n",
      "실제 요약 : jet fuel prices hiked for th straight month \n",
      "예측 요약 :  oil price hits india to oil from oil to cut costs\n",
      "\n",
      "\n"
     ]
    }
   ],
   "source": [
    "# 테스트데이터 약 50개의 샘플에 대해서 실제 요약과 예측된 요약을 비교\n",
    "for i in range(50, 100):\n",
    "    print(\"원문 :\", seq2text(encoder_input_test[i]))\n",
    "    print(\"실제 요약 :\", seq2summary(decoder_input_test[i]))\n",
    "    print(\"예측 요약 :\", decode_sequence(encoder_input_test[i].reshape(1, text_max_len)))\n",
    "    print(\"\\n\")"
   ]
  },
  {
   "cell_type": "markdown",
   "id": "99958b9d",
   "metadata": {},
   "source": [
    "### > 추출적 요약"
   ]
  },
  {
   "cell_type": "code",
   "execution_count": 60,
   "id": "30bfa5d4",
   "metadata": {},
   "outputs": [],
   "source": [
    "# 패키지 Summa에서는 추출적 요약을 위한 모듈인 summarize를 제공\n",
    "\n",
    "from summa.summarizer import summarize\n",
    "import urllib.request\n",
    "\n",
    "urllib.request.urlretrieve(\"https://raw.githubusercontent.com/sunnysai12345/News_Summary/master/news_summary_more.csv\", filename=\"news_summary_more.csv\")\n",
    "data = pd.read_csv('news_summary_more.csv', encoding='iso-8859-1')"
   ]
  },
  {
   "cell_type": "code",
   "execution_count": 61,
   "id": "2b2fd93e",
   "metadata": {},
   "outputs": [
    {
     "data": {
      "text/html": [
       "<div>\n",
       "<style scoped>\n",
       "    .dataframe tbody tr th:only-of-type {\n",
       "        vertical-align: middle;\n",
       "    }\n",
       "\n",
       "    .dataframe tbody tr th {\n",
       "        vertical-align: top;\n",
       "    }\n",
       "\n",
       "    .dataframe thead th {\n",
       "        text-align: right;\n",
       "    }\n",
       "</style>\n",
       "<table border=\"1\" class=\"dataframe\">\n",
       "  <thead>\n",
       "    <tr style=\"text-align: right;\">\n",
       "      <th></th>\n",
       "      <th>headlines</th>\n",
       "      <th>text</th>\n",
       "    </tr>\n",
       "  </thead>\n",
       "  <tbody>\n",
       "    <tr>\n",
       "      <th>67317</th>\n",
       "      <td>Army soldier martyred in ceasefire violation b...</td>\n",
       "      <td>An Army jawan was martyred on Tuesday when Pak...</td>\n",
       "    </tr>\n",
       "    <tr>\n",
       "      <th>8508</th>\n",
       "      <td>Facebook denies disbanding 'war room' 2 months...</td>\n",
       "      <td>Facebook has denied reports claiming the elect...</td>\n",
       "    </tr>\n",
       "    <tr>\n",
       "      <th>96398</th>\n",
       "      <td>Spanish court to probe 'state terrorism' by Sy...</td>\n",
       "      <td>A Spanish court will investigate allegations t...</td>\n",
       "    </tr>\n",
       "    <tr>\n",
       "      <th>69689</th>\n",
       "      <td>Japan releases postage stamps on Indian yoga e...</td>\n",
       "      <td>Japanese postal department has released postag...</td>\n",
       "    </tr>\n",
       "    <tr>\n",
       "      <th>80435</th>\n",
       "      <td>AIIMS docs to try separating twins joined at t...</td>\n",
       "      <td>Doctors at the All India Institute of Medical ...</td>\n",
       "    </tr>\n",
       "    <tr>\n",
       "      <th>66069</th>\n",
       "      <td>PM Modi will give every Gujarati a house on mo...</td>\n",
       "      <td>Accusing Prime Minister Narendra Modi of 'sell...</td>\n",
       "    </tr>\n",
       "    <tr>\n",
       "      <th>23602</th>\n",
       "      <td>WhatsApp launches 4-person group video calling</td>\n",
       "      <td>WhatsApp has officially released its group cal...</td>\n",
       "    </tr>\n",
       "    <tr>\n",
       "      <th>23284</th>\n",
       "      <td>Paying maid less than Ã¢ÂÂ¹6,836/month may la...</td>\n",
       "      <td>The Tamil Nadu government has issued a notific...</td>\n",
       "    </tr>\n",
       "    <tr>\n",
       "      <th>56746</th>\n",
       "      <td>Healthcare startup DocsApp raises $7.2 mn in S...</td>\n",
       "      <td>Bengaluru-based online medical consultation st...</td>\n",
       "    </tr>\n",
       "    <tr>\n",
       "      <th>53642</th>\n",
       "      <td>Guests can stay inside a bus with 5 beds, kitc...</td>\n",
       "      <td>Guests can stay inside a retired double-decker...</td>\n",
       "    </tr>\n",
       "  </tbody>\n",
       "</table>\n",
       "</div>"
      ],
      "text/plain": [
       "                                               headlines  \\\n",
       "67317  Army soldier martyred in ceasefire violation b...   \n",
       "8508   Facebook denies disbanding 'war room' 2 months...   \n",
       "96398  Spanish court to probe 'state terrorism' by Sy...   \n",
       "69689  Japan releases postage stamps on Indian yoga e...   \n",
       "80435  AIIMS docs to try separating twins joined at t...   \n",
       "66069  PM Modi will give every Gujarati a house on mo...   \n",
       "23602     WhatsApp launches 4-person group video calling   \n",
       "23284  Paying maid less than Ã¢ÂÂ¹6,836/month may la...   \n",
       "56746  Healthcare startup DocsApp raises $7.2 mn in S...   \n",
       "53642  Guests can stay inside a bus with 5 beds, kitc...   \n",
       "\n",
       "                                                    text  \n",
       "67317  An Army jawan was martyred on Tuesday when Pak...  \n",
       "8508   Facebook has denied reports claiming the elect...  \n",
       "96398  A Spanish court will investigate allegations t...  \n",
       "69689  Japanese postal department has released postag...  \n",
       "80435  Doctors at the All India Institute of Medical ...  \n",
       "66069  Accusing Prime Minister Narendra Modi of 'sell...  \n",
       "23602  WhatsApp has officially released its group cal...  \n",
       "23284  The Tamil Nadu government has issued a notific...  \n",
       "56746  Bengaluru-based online medical consultation st...  \n",
       "53642  Guests can stay inside a retired double-decker...  "
      ]
     },
     "execution_count": 61,
     "metadata": {},
     "output_type": "execute_result"
    }
   ],
   "source": [
    "data.sample(10)"
   ]
  },
  {
   "cell_type": "code",
   "execution_count": 64,
   "id": "85161d76",
   "metadata": {},
   "outputs": [],
   "source": [
    "data['headlines_predict'] = data['text'].apply(lambda x: summarize(x, ratio=0.5))"
   ]
  },
  {
   "cell_type": "code",
   "execution_count": 65,
   "id": "b2b78a43",
   "metadata": {},
   "outputs": [
    {
     "data": {
      "text/html": [
       "<div>\n",
       "<style scoped>\n",
       "    .dataframe tbody tr th:only-of-type {\n",
       "        vertical-align: middle;\n",
       "    }\n",
       "\n",
       "    .dataframe tbody tr th {\n",
       "        vertical-align: top;\n",
       "    }\n",
       "\n",
       "    .dataframe thead th {\n",
       "        text-align: right;\n",
       "    }\n",
       "</style>\n",
       "<table border=\"1\" class=\"dataframe\">\n",
       "  <thead>\n",
       "    <tr style=\"text-align: right;\">\n",
       "      <th></th>\n",
       "      <th>headlines</th>\n",
       "      <th>text</th>\n",
       "      <th>headlines_predict</th>\n",
       "    </tr>\n",
       "  </thead>\n",
       "  <tbody>\n",
       "    <tr>\n",
       "      <th>3923</th>\n",
       "      <td>In 2019, it will be 'janta' vs 'gathbandhan': ...</td>\n",
       "      <td>Prime Minister Narendra Modi on Tuesday said t...</td>\n",
       "      <td>Prime Minister Narendra Modi on Tuesday said t...</td>\n",
       "    </tr>\n",
       "    <tr>\n",
       "      <th>79333</th>\n",
       "      <td>Snapchat hires team to prevent rivals from ste...</td>\n",
       "      <td>Snapchat has acquired Swiss startup Strong.Cod...</td>\n",
       "      <td>In May, Snapchat CEO Evan Spiegel said, \"Peopl...</td>\n",
       "    </tr>\n",
       "    <tr>\n",
       "      <th>75999</th>\n",
       "      <td>Shark travels 5,500 km in 200 days starting fr...</td>\n",
       "      <td>The migratory path of a female whale shark had...</td>\n",
       "      <td>The migratory path of a female whale shark had...</td>\n",
       "    </tr>\n",
       "    <tr>\n",
       "      <th>26208</th>\n",
       "      <td>HC pulls up IAF for confining officer to psych...</td>\n",
       "      <td>The Delhi High Court on Thursday pulled up the...</td>\n",
       "      <td>The Delhi High Court on Thursday pulled up the...</td>\n",
       "    </tr>\n",
       "    <tr>\n",
       "      <th>39668</th>\n",
       "      <td>Armaan begging me to return: Girlfriend after ...</td>\n",
       "      <td>Armaan Kohli's live-in girlfriend Neeru Randha...</td>\n",
       "      <td>Armaan Kohli's live-in girlfriend Neeru Randha...</td>\n",
       "    </tr>\n",
       "    <tr>\n",
       "      <th>82312</th>\n",
       "      <td>Chunky Pandey's daughter in Student of the Yea...</td>\n",
       "      <td>According to reports, actor Chunky Pandey's da...</td>\n",
       "      <td>According to reports, actor Chunky Pandey's da...</td>\n",
       "    </tr>\n",
       "    <tr>\n",
       "      <th>79797</th>\n",
       "      <td>Nepotism remark at IIFA 2017 was just a joke: ...</td>\n",
       "      <td>Saif Ali Khan has said that the remark on nepo...</td>\n",
       "      <td>Saif Ali Khan has said that the remark on nepo...</td>\n",
       "    </tr>\n",
       "    <tr>\n",
       "      <th>51400</th>\n",
       "      <td>Dutch cops to 'undress' youths wearing unaffor...</td>\n",
       "      <td>Police in the Netherlands' Rotterdam will iden...</td>\n",
       "      <td>Police in the Netherlands' Rotterdam will iden...</td>\n",
       "    </tr>\n",
       "    <tr>\n",
       "      <th>74575</th>\n",
       "      <td>Death toll in Gorakhpur's BRD Medical College ...</td>\n",
       "      <td>The death toll in Gorakhpur's BRD Medical Coll...</td>\n",
       "      <td>The death toll in Gorakhpur's BRD Medical Coll...</td>\n",
       "    </tr>\n",
       "    <tr>\n",
       "      <th>62970</th>\n",
       "      <td>I'll commit suicide if Twitter won't restore m...</td>\n",
       "      <td>Self-styled critic Kamaal R Khan has threatene...</td>\n",
       "      <td>Self-styled critic Kamaal R Khan has threatene...</td>\n",
       "    </tr>\n",
       "  </tbody>\n",
       "</table>\n",
       "</div>"
      ],
      "text/plain": [
       "                                               headlines  \\\n",
       "3923   In 2019, it will be 'janta' vs 'gathbandhan': ...   \n",
       "79333  Snapchat hires team to prevent rivals from ste...   \n",
       "75999  Shark travels 5,500 km in 200 days starting fr...   \n",
       "26208  HC pulls up IAF for confining officer to psych...   \n",
       "39668  Armaan begging me to return: Girlfriend after ...   \n",
       "82312  Chunky Pandey's daughter in Student of the Yea...   \n",
       "79797  Nepotism remark at IIFA 2017 was just a joke: ...   \n",
       "51400  Dutch cops to 'undress' youths wearing unaffor...   \n",
       "74575  Death toll in Gorakhpur's BRD Medical College ...   \n",
       "62970  I'll commit suicide if Twitter won't restore m...   \n",
       "\n",
       "                                                    text  \\\n",
       "3923   Prime Minister Narendra Modi on Tuesday said t...   \n",
       "79333  Snapchat has acquired Swiss startup Strong.Cod...   \n",
       "75999  The migratory path of a female whale shark had...   \n",
       "26208  The Delhi High Court on Thursday pulled up the...   \n",
       "39668  Armaan Kohli's live-in girlfriend Neeru Randha...   \n",
       "82312  According to reports, actor Chunky Pandey's da...   \n",
       "79797  Saif Ali Khan has said that the remark on nepo...   \n",
       "51400  Police in the Netherlands' Rotterdam will iden...   \n",
       "74575  The death toll in Gorakhpur's BRD Medical Coll...   \n",
       "62970  Self-styled critic Kamaal R Khan has threatene...   \n",
       "\n",
       "                                       headlines_predict  \n",
       "3923   Prime Minister Narendra Modi on Tuesday said t...  \n",
       "79333  In May, Snapchat CEO Evan Spiegel said, \"Peopl...  \n",
       "75999  The migratory path of a female whale shark had...  \n",
       "26208  The Delhi High Court on Thursday pulled up the...  \n",
       "39668  Armaan Kohli's live-in girlfriend Neeru Randha...  \n",
       "82312  According to reports, actor Chunky Pandey's da...  \n",
       "79797  Saif Ali Khan has said that the remark on nepo...  \n",
       "51400  Police in the Netherlands' Rotterdam will iden...  \n",
       "74575  The death toll in Gorakhpur's BRD Medical Coll...  \n",
       "62970  Self-styled critic Kamaal R Khan has threatene...  "
      ]
     },
     "execution_count": 65,
     "metadata": {},
     "output_type": "execute_result"
    }
   ],
   "source": [
    "data.sample(10)"
   ]
  },
  {
   "cell_type": "code",
   "execution_count": 66,
   "id": "0e237d5b",
   "metadata": {},
   "outputs": [
    {
     "name": "stdout",
     "output_type": "stream",
     "text": [
      "원문 : Former Finance Minister Yashwant Sinha on Tuesday demanded a probe into the alleged diversion of loans worth Ã¢ÂÂ¹31,000 crore by Dewan Housing Finance (DHFL). All agencies including regulators of the government have failed to track nefarious deals, he said. This comes after a media report on Tuesday accused DHFL's controlling shareholders of diverting funds to shell companies to buy assets.\n",
      "실제 요약 : Yashwant Sinha demands probe into alleged fund diversion by DHFL\n",
      "예측 요약 : Former Finance Minister Yashwant Sinha on Tuesday demanded a probe into the alleged diversion of loans worth Ã¢ÂÂ¹31,000 crore by Dewan Housing Finance (DHFL).\n",
      "\n",
      "\n",
      "원문 : US-based Boeing on Wednesday reported annual sales worth $101.12 billion in 2018, the first time the planemaker's sales crossed the $100-billion mark in its 102-year history. The company said it expects to deliver between 895 and 905 commercial aircraft in 2019. Boeing retained its position as the world's largest planemaker for the seventh straight year, delivering 806 aircraft in 2018. \n",
      "실제 요약 : Boeing sales cross $100bn for 1st time in its 102-yr history\n",
      "예측 요약 : Boeing retained its position as the world's largest planemaker for the seventh straight year, delivering 806 aircraft in 2018.\n",
      "\n",
      "\n",
      "원문 : text\n",
      "실제 요약 : headlines\n",
      "예측 요약 : \n",
      "\n",
      "\n",
      "원문 : OnePlus has emerged as India's best-selling premium smartphone brand of 2018, as per a report by Counterpoint. It captured 36% of the market share in the premium segment, in Q4 2018. Further, its OnePlus 6 emerged as the highest selling premium smartphone of 2018 followed by OnePlus 6T.\n",
      "실제 요약 : OnePlus named bestselling premium smartphone brand of 2018: Report\n",
      "예측 요약 : Further, its OnePlus 6 emerged as the highest selling premium smartphone of 2018 followed by OnePlus 6T.\n",
      "\n",
      "\n",
      "원문 : Filmmaker Pooja Bhatt, while talking about the presentation of women in her films, said, \"I can never look at a female body, even if it's naked, in a vulgar manner.\" \"Our audience can say...the women in my films are bold or sensual, but never ever vulgar,\" she added. Pooja further said her censor board is her \"own heart and mind\".\n",
      "실제 요약 : Can never look at female body, even if naked, in vulgar way: Pooja\n",
      "예측 요약 : Filmmaker Pooja Bhatt, while talking about the presentation of women in her films, said, \"I can never look at a female body, even if it's naked, in a vulgar manner.\" \"Our audience can say...the women in my films are bold or sensual, but never ever vulgar,\" she added.\n",
      "\n",
      "\n",
      "원문 : Actress Mishti, who has featured in 'Manikarnika: The Queen of Jhansi', has said the film's co-director Kangana Ranaut made false promises to the cast. \"Kangana had said, 'I want dates because all characters look jumbled up...I'm trying my best to give everybody a prominent space on screen.' After watching the movie, there is no scope for other characters,\" Mishti added. \n",
      "실제 요약 : Kangana made fake promises to cast: 'Manikarnika' actress Mishti\n",
      "예측 요약 : Actress Mishti, who has featured in 'Manikarnika: The Queen of Jhansi', has said the film's co-director Kangana Ranaut made false promises to the cast.\n",
      "\n",
      "\n",
      "원문 : The high-powered committee led by PM Narendra Modi to select the next CBI Director will meet again on February 1, Congress leader Mallikarjun Kharge has said. The panel consisting of Kharge and Chief Justice of India Ranjan Gogoi met on January 24, but the meeting ended \"inconclusively\" after Kharge cited lack of details in the list of 80 IPS officers. \n",
      "실제 요약 : PM-led panel to meet on Friday to pick new CBI chief: Kharge\n",
      "예측 요약 : The high-powered committee led by PM Narendra Modi to select the next CBI Director will meet again on February 1, Congress leader Mallikarjun Kharge has said.\n",
      "\n",
      "\n",
      "원문 : Nevada State Athletic Commission has banned MMA fighters Conor McGregor and Khabib Nurmagomedov for six months and nine months respectively over their roles in the mass brawl that occurred after their fight at UFC 229 last October. McGregor and Khabib have been fined $50,000 (Ã¢ÂÂ¹35 lakh) and $500,000 (Ã¢ÂÂ¹3.5 crore) respectively. The brawl occurred after Nurmagomedov confronted McGregor's teammate.\n",
      "실제 요약 : McGregor fined Ã¢ÂÂ¹35 lakh, Khabib Ã¢ÂÂ¹3.5 crore for brawl; both banned\n",
      "예측 요약 : Nevada State Athletic Commission has banned MMA fighters Conor McGregor and Khabib Nurmagomedov for six months and nine months respectively over their roles in the mass brawl that occurred after their fight at UFC 229 last October.\n",
      "\n",
      "\n",
      "원문 : Pakistan captain Sarfaraz Ahmed, who has been banned for four matches over racist remarks, took an apparent dig at his critics by sharing a video of a child reciting 'log hai na' poem on Twitter. \"Pyaar karna hai to khud se kar...dushmani karne ke liye log hai na,\" the poem read. \"This is how the world is,\" Sarfaraz wrote.\n",
      "실제 요약 : Banned for 4 matches, Sarfaraz shares 'log hai na' poem for critics\n",
      "예측 요약 : Pakistan captain Sarfaraz Ahmed, who has been banned for four matches over racist remarks, took an apparent dig at his critics by sharing a video of a child reciting 'log hai na' poem on Twitter.\n",
      "\n",
      "\n",
      "원문 : Banned cricketer Sreesanth has told Supreme Court he initially confessed to Delhi Police about his alleged involvement in 2013 IPL spot-fixing scandal to escape continuous police torture. Sreesanth further said the bookie tried dragging him into spot-fixing but he didn't fall for it. Citing Sreesanth not informing BCCI about fixing approach, the apex court said Sreesanth's conduct \"wasn't good\".\n",
      "실제 요약 : Confessed to spot-fixing to escape police torture: Sreesanth to SC\n",
      "예측 요약 : Sreesanth further said the bookie tried dragging him into spot-fixing but he didn't fall for it.\n",
      "\n",
      "\n",
      "원문 : The Finance Ministry on Wednesday said the government will present an Interim Budget on February 1. The clarification came amid speculations that a full Budget may be presented during the session. The government recently assigned Piyush Goyal temporary additional charge of the Finance and Corporate Affairs ministries in the absence of Arun Jaitley, who is in the US for treatment.\n",
      "실제 요약 : Govt to present Interim Budget, not full Budget on February 1\n",
      "예측 요약 : The Finance Ministry on Wednesday said the government will present an Interim Budget on February 1.\n",
      "\n",
      "\n",
      "원문 : US President Donald Trump on Wednesday called his country's top intelligence chiefs \"naive\" and \"wrong\" on Iran and added that they should perhaps \"go back to school\". Trump claimed Iran is testing rockets, calling the country \"a source of potential danger and conflict\". Top US intelligence officials on Tuesday said that Iran isn't currently taking steps towards building nuclear weapons.\n",
      "실제 요약 : US intelligence naive and wrong, should go back to school: Trump\n",
      "예측 요약 : US President Donald Trump on Wednesday called his country's top intelligence chiefs \"naive\" and \"wrong\" on Iran and added that they should perhaps \"go back to school\".\n",
      "\n",
      "\n",
      "원문 : A senior priest at the Vatican who handled cases of sexual abuse has quit after being accused of sexual abuse by a former nun. The accused priest claimed he is innocent and said he would consider taking legal action. The Vatican said in a statement that a Church investigation of the case was underway.\n",
      "실제 요약 : Vatican priest handling sex abuse cases quits over alleged sex abuse\n",
      "예측 요약 : A senior priest at the Vatican who handled cases of sexual abuse has quit after being accused of sexual abuse by a former nun.\n",
      "\n",
      "\n",
      "원문 : A 22-year-old writer turned down a job offer, claiming she was bullied to the point of tears during her two-hour interview by a UK company's CEO. Olivia Bland added the \"brutal\" interview brought back painful memories of her abusive relationship. \"I am so sorry that anyone has been hurt, it is never my intent,\" Web Applications CEO Craig Dean replied. \n",
      "실제 요약 : Woman rejects job after CEO bullies her in interview; he apologises\n",
      "예측 요약 : A 22-year-old writer turned down a job offer, claiming she was bullied to the point of tears during her two-hour interview by a UK company's CEO.\n",
      "\n",
      "\n",
      "원문 : Noida Police has arrested Sector 20 station in-charge Manoj Pant and three journalists for allegedly extorting money from a call centre owner for removing his name from an FIR. The four were caught while taking bribe money of Ã¢ÂÂ¹8 lakh, police said. Pant was the lead investigator in the Paytm extortion case involving Founder Vijay Shekhar Sharma's secretary Sonia Dhawan.\n",
      "실제 요약 : Police officer probing Paytm extortion case arrested for extortion\n",
      "예측 요약 : Noida Police has arrested Sector 20 station in-charge Manoj Pant and three journalists for allegedly extorting money from a call centre owner for removing his name from an FIR.\n",
      "\n",
      "\n",
      "원문 : Airtel on Wednesday said that Qatar's sovereign wealth fund Qatar Investment Authority will invest $200 million through a primary equity issuance in Airtel Africa. India's second-largest telecom operator's Africa unit recently raised $1.25 billion from six investors. Airtel Africa, the holding company for Airtel's operations in 14 African countries, is preparing for an initial public offering.\n",
      "실제 요약 : Qatar to invest $200 million in Airtel Africa\n",
      "예측 요약 : Airtel Africa, the holding company for Airtel's operations in 14 African countries, is preparing for an initial public offering.\n",
      "\n",
      "\n",
      "원문 : Actor Shreyas Talpade said that 'Golmaal' filmmaker Rohit Shetty is still working on the script for the fifth instalment of the 'Golmaal' film franchise. \"He was telling us the other day that he...cracked some story. Once he's done with the...scripting, he'll take a call,Ã¢ÂÂ the actor added. The series features Shreyas along with Ajay Devgn, Arshad Warsi and Tusshar Kapoor.\n",
      "실제 요약 : Rohit Shetty still working on script for Golmaal 5: Shreyas\n",
      "예측 요약 : Actor Shreyas Talpade said that 'Golmaal' filmmaker Rohit Shetty is still working on the script for the fifth instalment of the 'Golmaal' film franchise.\n",
      "Once he's done with the...scripting, he'll take a call,Ã¢ÂÂ the actor added.\n",
      "\n",
      "\n",
      "원문 : A 72-year-old man named Terry Sanderson has sued 'Avengers' actress Gwyneth Paltrow for allegedly crashing into him while skiing, and is seeking $3.1 million (over Ã¢ÂÂ¹22 crore) in damages. The lawsuit states the actress got up and skied away after knocking the man down, leaving him with broken ribs. The incident reportedly took place in 2016 in Utah, US. \n",
      "실제 요약 : Man sues Avengers actress Gwyneth for Ã¢ÂÂ¹22 crore over ski crash\n",
      "예측 요약 : A 72-year-old man named Terry Sanderson has sued 'Avengers' actress Gwyneth Paltrow for allegedly crashing into him while skiing, and is seeking $3.1 million (over Ã¢ÂÂ¹22 crore) in damages.\n",
      "\n",
      "\n",
      "원문 : Yami Gautam was felicitated by Border Security Force (BSF) in Amritsar for her performance in 'Uri: The Surgical Strike'. \"BSF is the first line of defence of our country and it gives me...pride to have met them,\" Yami said. The film, which also stars Vicky Kaushal, is based on the Indian Army's surgical strike operation which took place in 2016.\n",
      "실제 요약 : Yami Gautam felicitated by BSF for performance in 'Uri...'\n",
      "예측 요약 : Yami Gautam was felicitated by Border Security Force (BSF) in Amritsar for her performance in 'Uri: The Surgical Strike'.\n",
      "\n",
      "\n",
      "원문 : Social media giant Facebook has hired privacy critic Nate Cardozo, formerly the top legal counsel for US privacy watchdog EFF, as a privacy policy manager for WhatsApp. Cardozo had called Facebook a \"faceless corporation\" whose business model depends on user's confusion and indifference about privacy, in October 2015. Facebook has also hired attorney Robyn Greene as its privacy policy manager.\n",
      "실제 요약 : Facebook hires its privacy critic as privacy policy manager\n",
      "예측 요약 : Social media giant Facebook has hired privacy critic Nate Cardozo, formerly the top legal counsel for US privacy watchdog EFF, as a privacy policy manager for WhatsApp. Cardozo had called Facebook a \"faceless corporation\" whose business model depends on user's confusion and indifference about privacy, in October 2015.\n",
      "\n",
      "\n",
      "원문 : Apple CEO Tim Cook said the company plans to lower some iPhones' prices in markets with currencies that weakened against the US dollar in the past year. \"WeÃ¢ÂÂve decided to go back to (iPhone prices) more commensurate with...local prices...a year ago,\" Cook added. The price cuts, in hopes of increasing sales, are reportedly occurring for second time in 12 years.\n",
      "실제 요약 : Apple to cut some iPhones' prices outside US over strong dollar\n",
      "예측 요약 : \"WeÃ¢ÂÂve decided to go back to (iPhone prices) more commensurate with...local prices...a year ago,\" Cook added.\n",
      "\n",
      "\n",
      "원문 : Scientists in Australia's Flinders University are testing a wetsuit prototype that could protect its wearer after a shark attack. The suit, made of synthetic material similar to the material used in bulletproof vests, could help reduce blood loss after a shark attack. \"The majority of fatalities from shark bites is due to blood loss...shock from blood loss,\" a scientist said.\n",
      "실제 요약 : Scientists test wetsuit to protect wearer after shark attack\n",
      "예측 요약 : \"The majority of fatalities from shark bites is due to blood loss...shock from blood loss,\" a scientist said.\n",
      "\n",
      "\n",
      "원문 : BJP National Secretary Rahul Sinha on Wednesday asked the party workers in West Bengal to come armed with sticks to PM Narendra Modi's rally in the state on February 2. His statement came a day after clashes broke out following BJP chief Amit Shah's WB rally. Sinha added the TMC is indulged in violence as they're afraid of BJP's strength.\n",
      "실제 요약 : Come armed with sticks for PM Modi's rally in WB: BJP leader\n",
      "예측 요약 : BJP National Secretary Rahul Sinha on Wednesday asked the party workers in West Bengal to come armed with sticks to PM Narendra Modi's rally in the state on February 2.\n",
      "\n",
      "\n",
      "원문 : BJP President Amit Shah on Wednesday took a dig at the Opposition parties saying that the 'mahagathbandhan' for the Opposition is 4B - \"Bua-Bhatija-Bhai-Behen\". He added that 4B for the BJP meant \"Badhta Bharat, Banta Bharat\". He said Opposition's government cannot take the country ahead and \"only Modiji can provide a 'mazboot' (strong) government\".\n",
      "실제 요약 : '4B' for Opposition is 'Bua-Bhatija-Bhai-Behen': Amit Shah\n",
      "예측 요약 : BJP President Amit Shah on Wednesday took a dig at the Opposition parties saying that the 'mahagathbandhan' for the Opposition is 4B - \"Bua-Bhatija-Bhai-Behen\".\n",
      "\n",
      "\n",
      "원문 : German automaker Volkswagen Group has retained the car industry's top spot in global sales, beating its Japanese rival Toyota. Volkswagen's sales, including its MAN and Scania heavy trucks and buses, rose 0.9% to 10.83 million in 2018, the company had said. Toyota came second with around 10.6 million deliveries, including its affiliated brands Daihatsu and Hino, in 2018.\n",
      "실제 요약 : Volkswagen retains top spot in global sales, beats Toyota\n",
      "예측 요약 : Volkswagen's sales, including its MAN and Scania heavy trucks and buses, rose 0.9% to 10.83 million in 2018, the company had said.\n",
      "\n",
      "\n",
      "원문 : Ousted Nissan Chairman Carlos Ghosn has said his arrest over alleged financial misconduct was led by \"plot and treason\" by the Japanese carmaker's executives who opposed its deeper integration with Renault and Mitsubishi. Ghosn added he had discussed the integration plans with Nissan's CEO in September, a month before his arrest. He further said he wouldn't flee if granted bail.\n",
      "실제 요약 : Plot, treason by Nissan executives led to my arrest: Ghosn\n",
      "예측 요약 : Ousted Nissan Chairman Carlos Ghosn has said his arrest over alleged financial misconduct was led by \"plot and treason\" by the Japanese carmaker's executives who opposed its deeper integration with Renault and Mitsubishi.\n",
      "\n",
      "\n",
      "원문 : The government has cut down customs duty on import of parts and components for electric vehicles to 10-15%, down from the previous 15-30%. The Central Board of Indirect Taxes and Customs said disassembled parts will attract 10% duty, whereas 15% will be levied on pre-assembled packs. However, fully built electric vehicles will continue to attract 25% import duty.\n",
      "실제 요약 : Govt cuts customs duty on electric vehicle parts to 10-15%\n",
      "예측 요약 : The government has cut down customs duty on import of parts and components for electric vehicles to 10-15%, down from the previous 15-30%.\n",
      "\n",
      "\n",
      "원문 : Government officials on Wednesday said that a swine flu outbreak has killed 76 people this year in Rajasthan. Colder weather has worsened the seasonal outbreak of the H1N1 virus in the country, officials added. Rajasthan recorded more than a third of all swine flu deaths in India with Jodhpur being the worst affected area in the state, officials said.\n",
      "실제 요약 : Swine flu outbreak kills 76 in Rajasthan\n",
      "예측 요약 : Government officials on Wednesday said that a swine flu outbreak has killed 76 people this year in Rajasthan.\n",
      "\n",
      "\n",
      "원문 : North Korea is \"unlikely to completely give up its nuclear weapons and production capabilities\", Director of US' National Intelligence, Daniel Coats, said. \"North Korean leaders view nuclear arms as critical to regime survival,\" he added. His statements come despite North Korea's agreement with the US at the Singapore summit last year to denuclearise the Korean Peninsula. \n",
      "실제 요약 : N Korea unlikely to give up nuclear weapons: US intelligence chief\n",
      "예측 요약 : \"North Korean leaders view nuclear arms as critical to regime survival,\" he added.\n",
      "\n",
      "\n",
      "원문 : Jet Airways on Wednesday denied it was directed by GE Capital Aviation Services to ground its aircraft due to non-payment of dues. The airline said it's in the process of delivering three aircraft to lessors due to the expiry of lease terms. Further, three aircraft have been temporarily grounded to carry out an engine normalisation exercise, it added.\n",
      "실제 요약 : Jet Airways denies being told to ground aircraft\n",
      "예측 요약 : Further, three aircraft have been temporarily grounded to carry out an engine normalisation exercise, it added.\n",
      "\n",
      "\n",
      "원문 : Retired Justice Srikrishna's enquiry panel has found that ex-CEO Chanda Kochhar violated ICICI Bank's code of conduct. The bank said it'll treat Kochhar's exit as termination and will take back all bonuses paid to her from April 2009 until March 2018. The CBI recently filed a case against Kochhar, her husband, and Videocon MD in the ICICI-Videocon loan case.\n",
      "실제 요약 : ICICI fires Chanda Kochhar, to take back bonuses paid in last 9 yrs\n",
      "예측 요약 : Retired Justice Srikrishna's enquiry panel has found that ex-CEO Chanda Kochhar violated ICICI Bank's code of conduct.\n",
      "\n",
      "\n",
      "원문 : Ex-India cricketer Jacob Martin has been shifted to general ward from the ICU after being on a ventilator for nearly a month following a road accident, wherein he severely injured his lungs. Martin's wife Khyati mentioned there are chances that Jacob will be in hospital for two more months. BCCI, CSK and various cricketers provided financial assistance for Martin's treatment.\n",
      "실제 요약 : Ex-cricketer Martin out of ICU after being on ventilator for a month\n",
      "예측 요약 : Ex-India cricketer Jacob Martin has been shifted to general ward from the ICU after being on a ventilator for nearly a month following a road accident, wherein he severely injured his lungs.\n",
      "\n",
      "\n",
      "원문 : Sri Lanka all-rounder Thisara Perera has written to Sri Lanka Cricket CEO Ashley de Silva, asking the board to intervene after ODI captain Lasith Malinga's wife Tanya targeted him on Facebook. Tanya accused Perera of meeting country's Sports Minister to secure his place in the team. \"We've become laughing stock of whole country...because of one person's personal vendetta,\" Perera wrote.\n",
      "실제 요약 : Malinga's wife targets Perera on Facebook, he seeks board's help\n",
      "예측 요약 : Tanya accused Perera of meeting country's Sports Minister to secure his place in the team.\n",
      "\n",
      "\n",
      "원문 : Goa CM and ex-Defence Minister Manohar Parrikar has written a letter to Congress President Rahul Gandhi over his claim that Parrikar told him he has nothing to do with new Rafale deal. Parrikar wrote, \"Kindly do not use your visit to an ailing person to feed political opportunism.\" In their five-minute meeting, they didn't discuss anything about Rafale, he added.\n",
      "실제 요약 : Don't use visit to ailing man for political gains: Goa CM to Rahul\n",
      "예측 요약 : Goa CM and ex-Defence Minister Manohar Parrikar has written a letter to Congress President Rahul Gandhi over his claim that Parrikar told him he has nothing to do with new Rafale deal.\n",
      "\n",
      "\n",
      "원문 : Prime Minister Narendra Modi stopped his speech at the inauguration of the new terminal building at Surat airport after observing that a cameraman had fainted. PM Modi then asked his officers to urgently arrange for an ambulance for the cameraman. \"It's good that PM was paying attention to his surroundings during his speech,\" the cameraman later said from a hospital. \n",
      "실제 요약 : PM Modi stops speech after cameraman faints, asks officers to help\n",
      "예측 요약 : PM Modi then asked his officers to urgently arrange for an ambulance for the cameraman.\n",
      "\n",
      "\n",
      "원문 : A couple got divorced minutes after their wedding ceremony got over in Gujarat's Gondal as a disagreement broke out and relatives from both sides started throwing dishes at each other during lunch. The advocates representing both sides arrived at the marriage hall and got the couple divorced within minutes. The couple even reportedly returned the gifts exchanged during the ceremony.\n",
      "실제 요약 : Couple divorces minutes after marriage as families fight over lunch\n",
      "예측 요약 : A couple got divorced minutes after their wedding ceremony got over in Gujarat's Gondal as a disagreement broke out and relatives from both sides started throwing dishes at each other during lunch.\n",
      "\n",
      "\n",
      "원문 : Gujarat Education Minister Bhupendrasinh Chudasma has written a congratulatory message to a yoga ashram run by rape-convict Asaram's organisation for observing February 14 as \"Matru-Pitru Pujan Divas\" (Mother-Father worship day). After the Congress termed the letter as \"unfortunate\", saying it \"shows the nexus between BJP and godman\", Chudasma clarified, \"All I have done is sent best wishes.\" \n",
      "실제 요약 : Minister praises rape-convict Asaram over Matru-Pitru Divas\n",
      "예측 요약 : Gujarat Education Minister Bhupendrasinh Chudasma has written a congratulatory message to a yoga ashram run by rape-convict Asaram's organisation for observing February 14 as \"Matru-Pitru Pujan Divas\" (Mother-Father worship day).\n",
      "\n",
      "\n",
      "원문 : Venezuelan President NicolÃÂ¡s Maduro has claimed that his American counterpart Donald Trump ordered the Colombian government and the Colombian mafia to kill him. \"If something happens to me, Trump and Colombian President IvÃÂ¡n MÃÂ¡rquez will bear responsibility,\" he added. The US has blamed Maduro for the economic crisis in Venezuela and recognised opposition leader Juan GuaidÃÂ³ as interim President.\n",
      "실제 요약 : Trump ordered to kill me: Venezuela President Maduro\n",
      "예측 요약 : Venezuelan President NicolÃÂ¡s Maduro has claimed that his American counterpart Donald Trump ordered the Colombian government and the Colombian mafia to kill him.\n",
      "\n",
      "\n",
      "원문 : Eight Asian billionaires aged 90 or above on the Bloomberg Billionaires Index of world's 500 richest people have a combined net worth of $125 billion. The richest among them is Hong Kong's Li Ka Shing with a net worth of $30.5 billion. India's 90-year-old Pallonji Mistry, who controls 18.3% of Tata Sons through Shapoorji Pallonji Group, is worth $20.1 billion.\n",
      "실제 요약 : 8 Asian billionaires aged over 90, including Mistry, control $125bn\n",
      "예측 요약 : The richest among them is Hong Kong's Li Ka Shing with a net worth of $30.5 billion.\n",
      "\n",
      "\n",
      "원문 : Tamil Nadu food safety officials on Wednesday raided and seized 1,000 kgs of banned plastic items from Hotel Saravana Bhavan in Chennai's Vadapalani. Officials began a surprise check in the branch at 8 am. The state government had banned single-use plastics from January 1 and said the banned items should be handed over at the offices of the city corporation.\n",
      "실제 요약 : 1,000 kg banned plastic seized from Saravana Bhavan in Chennai\n",
      "예측 요약 : Tamil Nadu food safety officials on Wednesday raided and seized 1,000 kgs of banned plastic items from Hotel Saravana Bhavan in Chennai's Vadapalani.\n",
      "\n",
      "\n",
      "원문 : Actress Shamita Shetty was verbally abused and her driver was slapped in an incident of road rage in Mumbai on Tuesday, as per reports. The incident reportedly took place after a motorist who was accompanied by two friends, rammed his vehicle into Shamita's car. The men allegedly manhandled and threatened Shamita's driver when he stepped out to inspect the damage. \n",
      "실제 요약 : Shamita Shetty abused, driver slapped after accident: Report\n",
      "예측 요약 : Actress Shamita Shetty was verbally abused and her driver was slapped in an incident of road rage in Mumbai on Tuesday, as per reports.\n",
      "\n",
      "\n",
      "원문 : Actress Vaani Kapoor said that trolling has become a norm on social media, adding, \"There's no one who hasn't got trolled on social media.\" \"Everybody is out there to pull the other person down but it'll only bother [you] if you let it bother you,\" Vaani added. She further said, social media offers a platform \"where people enjoy belittling everybody\". \n",
      "실제 요약 : Trolling has become the norm on social media: Vaani\n",
      "예측 요약 : Actress Vaani Kapoor said that trolling has become a norm on social media, adding, \"There's no one who hasn't got trolled on social media.\" \"Everybody is out there to pull the other person down but it'll only bother [you] if you let it bother you,\" Vaani added.\n",
      "\n",
      "\n",
      "원문 : Actress Sushmita Sen took to Instagram to share a joke on the subject of marriage. \"Whoever invented marriage was creepy as hell. Like I love you so much IÃ¢ÂÂm gonna get the government involved so you canÃ¢ÂÂt leave,\" Sushmita's post read. \"This is an insult to [the] beauty of marriage,\" an Instagram user commented on her post.\n",
      "실제 요약 : Whoever invented marriage was creepy as hell: Sushmita posts joke\n",
      "예측 요약 : Actress Sushmita Sen took to Instagram to share a joke on the subject of marriage.\n",
      "\"This is an insult to [the] beauty of marriage,\" an Instagram user commented on her post.\n",
      "\n",
      "\n",
      "원문 : Television actor Karanvir Bohra, who flew to Russia on Tuesday to attend a film festival, has been detained in Moscow due to passport damage. \"They [are] contemplating to deport me back to India,\" the actor wrote on Twitter. The Indian embassy in Russia's capital responded to his tweet and said that they were looking into the issue. \n",
      "실제 요약 : Actor Karanvir Bohra detained in Russia over passport damage\n",
      "예측 요약 : Television actor Karanvir Bohra, who flew to Russia on Tuesday to attend a film festival, has been detained in Moscow due to passport damage.\n",
      "\n",
      "\n",
      "원문 : While speaking about winning awards for his films, Shah Rukh Khan said, \"If I don't get an award, that award is at a loss.\" \"Sometimes, the prestige of an award increases when I receive it,\" the actor jokingly added. Shah Rukh further said that he was \"extremely ambitious\" but in a \"fair manner\". \n",
      "실제 요약 : If I don't get an award, that award is at loss: SRK\n",
      "예측 요약 : While speaking about winning awards for his films, Shah Rukh Khan said, \"If I don't get an award, that award is at a loss.\" \"Sometimes, the prestige of an award increases when I receive it,\" the actor jokingly added.\n",
      "\n",
      "\n",
      "원문 : Actress Patralekhaa will make her debut in the Kannada film industry with the action-comedy film 'Where is my Kannadaka?' \"I can definitely say that itÃ¢ÂÂs a kind of role that I havenÃ¢ÂÂt portrayed on screen so far and that makes it special for me,\" the actress said in a statement. Shooting for the film will reportedly begin in April.\n",
      "실제 요약 : Actress Patralekhaa to make her Kannada film debut \n",
      "예측 요약 : Actress Patralekhaa will make her debut in the Kannada film industry with the action-comedy film 'Where is my Kannadaka?' \"I can definitely say that itÃ¢ÂÂs a kind of role that I havenÃ¢ÂÂt portrayed on screen so far and that makes it special for me,\" the actress said in a statement.\n",
      "\n",
      "\n",
      "원문 : Gmail on Tuesday faced a global outage, which also affected India, wherein certain users complained they faced a '404 error' message while trying to sign-in to their accounts. The error message read: \"The requested URL was not found on this server. That's all we know.\" Google responded saying \"problem with Gmail should be resolved (now). We apologise for the inconvenience\".\n",
      "실제 요약 : Gmail faces temporary global outage, users face '404 error'\n",
      "예측 요약 : Gmail on Tuesday faced a global outage, which also affected India, wherein certain users complained they faced a '404 error' message while trying to sign-in to their accounts.\n",
      "The error message read: \"The requested URL was not found on this server.\n",
      "\n",
      "\n",
      "원문 : Shiv Sena chief Uddhav Thackeray has asked the BJP to decide about the alliance with the Sena within 15 days and said the BJP should make a concrete proposal on the alliance. Thackeray added that only if the BJP agrees to Sena's terms and conditions, the party will agree for an alliance. Sena is free to fight independently, he said. \n",
      "실제 요약 : Decide about an alliance within 15 days: Uddhav to BJP\n",
      "예측 요약 : Shiv Sena chief Uddhav Thackeray has asked the BJP to decide about the alliance with the Sena within 15 days and said the BJP should make a concrete proposal on the alliance.\n",
      "\n",
      "\n",
      "원문 : BJP President Amit Shah on Wednesday took a dig at the Opposition's proposed grand alliance saying if the \"mahagathbandhan comes to power, each opposition leader will be a Prime Minister every day of the week\". He added, \"[The] country will go on...holiday on Sunday\". He said the Opposition is thinking about leading the country but does not have a leader.\n",
      "실제 요약 : Grand alliance, if wins, will see a new PM every day: Shah\n",
      "예측 요약 : He said the Opposition is thinking about leading the country but does not have a leader.\n",
      "\n",
      "\n",
      "원문 : Prime Minister Narendra Modi on Wednesday said his government's demonetisation decision made houses affordable for the aspiring youth. He added decisions like demonetisation and RERA have put a check on black money that used to be \"parked in the real estate sector\". He said 'UDAN' (Ude Desh ka Aam Nagrik) scheme has boosted the development of the country's aviation sector.\n",
      "실제 요약 : Demonetisation made homes affordable for youth: PM Modi\n",
      "예측 요약 : He added decisions like demonetisation and RERA have put a check on black money that used to be \"parked in the real estate sector\".\n",
      "\n",
      "\n"
     ]
    }
   ],
   "source": [
    "for i in range(50, 100):\n",
    "    print(\"원문 :\", data['text'][i])\n",
    "    print(\"실제 요약 :\", data['headlines'][i])\n",
    "    print(\"예측 요약 :\", data['headlines_predict'][i])\n",
    "    print(\"\\n\")"
   ]
  },
  {
   "cell_type": "markdown",
   "id": "b19ccbda",
   "metadata": {},
   "source": [
    "### > 회고"
   ]
  },
  {
   "cell_type": "markdown",
   "id": "f5de3403",
   "metadata": {},
   "source": [
    "- 추상적 요약 부분을 보면, 예측 요약이 일부 단어로 끊어서 보면 유사성을 가지나, 뉴스기사의 요약으로 사용하기에는 무리가 있다. 느낌만 어색하면 괜찮은데, 중심 내용 자체를 잡아내지 못하는 것 같아. 다른 샘플도 다 비교해봤는데, 최소 어색한 느낌이거나 완전히 다른 느낌으로 요약아닌 요약을 해버린다.\n",
    "\n",
    "- 추출적 요약 부분은 잘 모르겠어서 구글링을해서 코드를 가져왔는데, 결과적으로는 추상적 요약보다는 추출적 요약이 조금 더 전체 내용면에서 우수한 성능이라고 생각된다."
   ]
  },
  {
   "cell_type": "code",
   "execution_count": null,
   "id": "02758bdb",
   "metadata": {},
   "outputs": [],
   "source": []
  }
 ],
 "metadata": {
  "kernelspec": {
   "display_name": "Python 3 (ipykernel)",
   "language": "python",
   "name": "python3"
  },
  "language_info": {
   "codemirror_mode": {
    "name": "ipython",
    "version": 3
   },
   "file_extension": ".py",
   "mimetype": "text/x-python",
   "name": "python",
   "nbconvert_exporter": "python",
   "pygments_lexer": "ipython3",
   "version": "3.9.7"
  }
 },
 "nbformat": 4,
 "nbformat_minor": 5
}
